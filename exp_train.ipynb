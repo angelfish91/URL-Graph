{
 "cells": [
  {
   "cell_type": "code",
   "execution_count": 1,
   "metadata": {},
   "outputs": [],
   "source": [
    "import os\n",
    "\n",
    "import joblib as jl\n",
    "import pandas as pd\n",
    "\n",
    "from src import graph\n",
    "from src import file_io\n",
    "from src import publish\n",
    "from src import preprocess\n",
    "from src.publish import convert_to_regex\n",
    "from src.graph import build_graph, build_graph_mp\n",
    "from src.preprocess import make_domain_path_split, ac_map_local\n",
    "from src.file_io import load_urls, dump_urls, dump_edge_list, dump_node_list, dump_regex_list"
   ]
  },
  {
   "cell_type": "code",
   "execution_count": 2,
   "metadata": {},
   "outputs": [],
   "source": [
    "work_dir = \"./data/EXP_2\"\n",
    "if not os.path.isdir(work_dir):\n",
    "    os.mkdir(work_dir)\n",
    "    print(\"mkdir %s\" %work_dir)"
   ]
  },
  {
   "cell_type": "code",
   "execution_count": 3,
   "metadata": {},
   "outputs": [
    {
     "name": "stderr",
     "output_type": "stream",
     "text": [
      "DEBUG:url_network:URLs Count:\t1461039\n"
     ]
    }
   ],
   "source": [
    "urls = load_urls(\"../data/sangfor/safe_0419.csv\", csv = True)\n",
    "domain_path_map = make_domain_path_split(urls, path_level_thresh = 1)"
   ]
  },
  {
   "cell_type": "code",
   "execution_count": 6,
   "metadata": {},
   "outputs": [
    {
     "name": "stderr",
     "output_type": "stream",
     "text": [
      "DEBUG:url_network:URLs Count:\t453745\n",
      "INFO:url_network:色情\tcount:4547\n",
      "DEBUG:url_network:URLs Count:\t529136\n",
      "INFO:url_network:赌博\tcount:3324\n",
      "DEBUG:url_network:URLs Count:\t138855\n",
      "INFO:url_network:政府机构\tcount:2562\n",
      "DEBUG:url_network:URLs Count:\t441342\n",
      "INFO:url_network:教育\tcount:3433\n"
     ]
    }
   ],
   "source": [
    "#category = [\"色情\", \"赌博\", \"搜索引擎\", \"教育\", \"政府机构\", \"法律信息\", \"网上购物\"]\n",
    "category = [\"色情\", \"赌博\", \"政府机构\", \"教育\"]\n",
    "cate_domain_map, domain_cate_map, domain_path_map_sel = ac_map_local(\n",
    "    domain_path_map, \n",
    "    category = category, \n",
    "    ac_root_path = \"../data/ac_white\")"
   ]
  },
  {
   "cell_type": "code",
   "execution_count": 7,
   "metadata": {
    "scrolled": true
   },
   "outputs": [
    {
     "name": "stderr",
     "output_type": "stream",
     "text": [
      "INFO:url_network:Total Domain Count:13866\n",
      "INFO:url_network:Total Comp Count:96132978\n",
      "DEBUG:url_network:Params ready, time consume:24.976774\n"
     ]
    },
    {
     "name": "stdout",
     "output_type": "stream",
     "text": [
      "batch:0\t0/4000000\n",
      "batch:0\t500000/4000000\n",
      "batch:0\t1000000/4000000\n",
      "batch:1\t0/4000000\n",
      "batch:0\t1500000/4000000\n",
      "batch:1\t500000/4000000\n",
      "batch:0\t2000000/4000000\n",
      "batch:1\t1000000/4000000\n",
      "batch:2\t0/4000000\n",
      "batch:0\t2500000/4000000\n",
      "batch:2\t500000/4000000\n",
      "batch:1\t1500000/4000000\n",
      "batch:0\t3000000/4000000\n",
      "batch:1\t2000000/4000000\n",
      "batch:2\t1000000/4000000\n",
      "batch:0\t3500000/4000000\n",
      "batch:3\t0/4000000\n",
      "batch:1\t2500000/4000000\n",
      "batch:2\t1500000/4000000\n",
      "batch:3\t500000/4000000\n",
      "batch:2\t2000000/4000000\n",
      "batch:1\t3000000/4000000\n",
      "batch:3\t1000000/4000000\n",
      "batch:2\t2500000/4000000\n",
      "batch:4\t0/4000000\n",
      "batch:1\t3500000/4000000\n",
      "batch:2\t3000000/4000000\n",
      "batch:3\t1500000/4000000\n",
      "batch:4\t500000/4000000\n",
      "batch:3\t2000000/4000000\n",
      "batch:2\t3500000/4000000\n",
      "batch:4\t1000000/4000000\n",
      "batch:5\t0/4000000\n",
      "batch:3\t2500000/4000000\n",
      "batch:4\t1500000/4000000\n",
      "batch:5\t500000/4000000\n",
      "batch:3\t3000000/4000000\n",
      "batch:4\t2000000/4000000\n",
      "batch:3\t3500000/4000000\n",
      "batch:6\t0/4000000\n",
      "batch:5\t1000000/4000000\n",
      "batch:4\t2500000/4000000\n",
      "batch:6\t500000/4000000\n",
      "batch:5\t1500000/4000000\n",
      "batch:6\t1000000/4000000\n",
      "batch:7\t0/4000000\n",
      "batch:5\t2000000/4000000\n",
      "batch:4\t3000000/4000000\n",
      "batch:5\t2500000/4000000\n",
      "batch:6\t1500000/4000000\n",
      "batch:7\t500000/4000000\n",
      "batch:5\t3000000/4000000\n",
      "batch:4\t3500000/4000000\n",
      "batch:7\t1000000/4000000\n",
      "batch:8\t0/4000000\n",
      "batch:5\t3500000/4000000\n",
      "batch:8\t500000/4000000\n",
      "batch:8\t1000000/4000000\n",
      "batch:9\t0/4000000\n",
      "batch:8\t1500000/4000000\n",
      "batch:6\t2000000/4000000\n",
      "batch:8\t2000000/4000000\n",
      "batch:10\t0/4000000\n",
      "batch:6\t2500000/4000000\n",
      "batch:8\t2500000/4000000\n",
      "batch:10\t500000/4000000\n",
      "batch:6\t3000000/4000000\n",
      "batch:8\t3000000/4000000\n",
      "batch:10\t1000000/4000000\n",
      "batch:8\t3500000/4000000\n",
      "batch:11\t0/4000000\n",
      "batch:9\t500000/4000000\n",
      "batch:10\t1500000/4000000\n",
      "batch:9\t1000000/4000000\n",
      "batch:11\t500000/4000000\n",
      "batch:9\t1500000/4000000\n",
      "batch:10\t2000000/4000000\n",
      "batch:6\t3500000/4000000\n",
      "batch:11\t1000000/4000000\n",
      "batch:12\t0/4000000\n",
      "batch:9\t2000000/4000000\n",
      "batch:10\t2500000/4000000\n",
      "batch:12\t500000/4000000\n",
      "batch:11\t1500000/4000000\n",
      "batch:9\t2500000/4000000\n",
      "batch:10\t3000000/4000000\n",
      "batch:12\t1000000/4000000\n",
      "batch:11\t2000000/4000000\n",
      "batch:12\t1500000/4000000\n",
      "batch:9\t3000000/4000000\n",
      "batch:13\t0/4000000\n",
      "batch:10\t3500000/4000000\n",
      "batch:9\t3500000/4000000\n",
      "batch:12\t2000000/4000000\n",
      "batch:13\t500000/4000000\n",
      "batch:11\t2500000/4000000\n",
      "batch:14\t0/4000000\n",
      "batch:11\t3000000/4000000\n",
      "batch:13\t1000000/4000000\n",
      "batch:14\t500000/4000000\n",
      "batch:11\t3500000/4000000\n",
      "batch:13\t1500000/4000000\n",
      "batch:14\t1000000/4000000\n",
      "batch:15\t0/4000000\n",
      "batch:13\t2000000/4000000\n",
      "batch:14\t1500000/4000000\n",
      "batch:12\t2500000/4000000\n",
      "batch:15\t500000/4000000\n",
      "batch:12\t3000000/4000000\n",
      "batch:13\t2500000/4000000\n",
      "batch:15\t1000000/4000000\n",
      "batch:14\t2000000/4000000\n",
      "batch:12\t3500000/4000000\n",
      "batch:16\t0/4000000\n",
      "batch:15\t1500000/4000000\n",
      "batch:13\t3000000/4000000\n",
      "batch:16\t500000/4000000\n",
      "batch:15\t2000000/4000000\n",
      "batch:14\t2500000/4000000\n",
      "batch:13\t3500000/4000000\n",
      "batch:16\t1000000/4000000\n",
      "batch:15\t2500000/4000000\n",
      "batch:17\t0/4000000\n",
      "batch:14\t3000000/4000000\n",
      "batch:16\t1500000/4000000\n",
      "batch:14\t3500000/4000000\n",
      "batch:17\t500000/4000000\n",
      "batch:15\t3000000/4000000\n",
      "batch:16\t2000000/4000000\n",
      "batch:17\t1000000/4000000\n",
      "batch:18\t0/4000000\n",
      "batch:15\t3500000/4000000\n",
      "batch:16\t2500000/4000000\n",
      "batch:18\t500000/4000000\n",
      "batch:17\t1500000/4000000\n",
      "batch:19\t0/4000000\n",
      "batch:16\t3000000/4000000\n",
      "batch:17\t2000000/4000000\n",
      "batch:19\t500000/4000000\n",
      "batch:16\t3500000/4000000\n",
      "batch:17\t2500000/4000000\n",
      "batch:19\t1000000/4000000\n",
      "batch:20\t0/4000000\n",
      "batch:17\t3000000/4000000\n",
      "batch:20\t500000/4000000\n",
      "batch:17\t3500000/4000000\n",
      "batch:19\t1500000/4000000\n",
      "batch:21\t0/4000000\n",
      "batch:19\t2000000/4000000\n",
      "batch:20\t1000000/4000000\n",
      "batch:19\t2500000/4000000\n",
      "batch:20\t1500000/4000000\n",
      "batch:22\t0/4000000\n",
      "batch:18\t1000000/4000000\n",
      "batch:20\t2000000/4000000\n",
      "batch:19\t3000000/4000000\n",
      "batch:18\t1500000/4000000\n",
      "batch:22\t500000/4000000\n",
      "batch:20\t2500000/4000000\n",
      "batch:19\t3500000/4000000\n",
      "batch:23\t0/4000000\n",
      "batch:24\t0/126045\n",
      "batch:22\t1000000/4000000\n",
      "batch:20\t3000000/4000000\n",
      "batch:23\t500000/4000000\n",
      "batch:20\t3500000/4000000\n",
      "batch:22\t1500000/4000000\n",
      "batch:21\t500000/4000000\n",
      "batch:21\t1000000/4000000\n",
      "batch:22\t2000000/4000000\n",
      "batch:21\t1500000/4000000\n",
      "batch:23\t1000000/4000000\n",
      "batch:22\t2500000/4000000\n",
      "batch:23\t1500000/4000000\n",
      "batch:21\t2000000/4000000\n",
      "batch:22\t3000000/4000000\n",
      "batch:21\t2500000/4000000\n",
      "batch:23\t2000000/4000000\n",
      "batch:22\t3500000/4000000\n",
      "batch:18\t2000000/4000000\n",
      "batch:21\t3000000/4000000\n",
      "batch:18\t2500000/4000000\n",
      "batch:21\t3500000/4000000\n",
      "batch:18\t3000000/4000000\n",
      "batch:18\t3500000/4000000\n",
      "batch:23\t2500000/4000000\n",
      "batch:23\t3000000/4000000\n",
      "batch:23\t3500000/4000000\n",
      "batch:7\t1500000/4000000\n",
      "batch:7\t2000000/4000000\n",
      "batch:7\t2500000/4000000\n",
      "batch:7\t3000000/4000000\n",
      "batch:7\t3500000/4000000\n"
     ]
    }
   ],
   "source": [
    "node_list = build_graph_mp(domain_path_map_sel, thresh=6, batch_size=4000000, n_jobs=8)"
   ]
  },
  {
   "cell_type": "code",
   "execution_count": 14,
   "metadata": {},
   "outputs": [],
   "source": [
    "jl.dump(node_list, os.path.join(work_dir, \"node.jl.z\"))\n",
    "node_list = jl.load(os.path.join(work_dir, \"node.jl.z\"))\n",
    "dump_edge_list(node_list, domain_cate_map, output_path=os.path.join(work_dir,\"edge.csv\"))\n",
    "dump_node_list(node_list, domain_cate_map, output_path=os.path.join(work_dir,\"node.csv\"))"
   ]
  },
  {
   "cell_type": "code",
   "execution_count": 16,
   "metadata": {},
   "outputs": [
    {
     "name": "stderr",
     "output_type": "stream",
     "text": [
      "INFO:url_network:input community size:561\n",
      "INFO:url_network:filter community size:501\n",
      "INFO:url_network:partition acc 0.353470\n"
     ]
    }
   ],
   "source": [
    "df = graph.make_modularity(node_list, domain_cate_map, resolution = 1)\n",
    "community_dict = graph.modularity_class_analyze(input_path=df,\n",
    "                                                min_cluster_thresh=2,\n",
    "                                                mis_classify_count_thresh=1)"
   ]
  },
  {
   "cell_type": "code",
   "execution_count": 17,
   "metadata": {},
   "outputs": [
    {
     "name": "stderr",
     "output_type": "stream",
     "text": [
      "INFO:url_network:label:0\tpath extract:179\n",
      "INFO:url_network:label:1\tpath extract:205\n",
      "INFO:url_network:label:2\tpath extract:98\n",
      "INFO:url_network:label:3\tpath extract:157\n"
     ]
    }
   ],
   "source": [
    "label_path_map = graph.path_extract(input_path=os.path.join(work_dir,\"edge.csv\"), \n",
    "                                    community_dict = community_dict)"
   ]
  },
  {
   "cell_type": "code",
   "execution_count": 22,
   "metadata": {},
   "outputs": [
    {
     "name": "stderr",
     "output_type": "stream",
     "text": [
      "DEBUG:url_network:OLD DATA FIND! REMOVING\t./data/EXP_2/porn_regex_raw.txt\n",
      "DEBUG:url_network:Regex has been dump\t./data/EXP_2/porn_regex_raw.txt\n",
      "DEBUG:url_network:OLD DATA FIND! REMOVING\t./data/EXP_2/gambing_regex_raw.txt\n",
      "DEBUG:url_network:Regex has been dump\t./data/EXP_2/gambing_regex_raw.txt\n",
      "DEBUG:url_network:OLD DATA FIND! REMOVING\t./data/EXP_2/gov_regex_raw.txt\n",
      "DEBUG:url_network:Regex has been dump\t./data/EXP_2/gov_regex_raw.txt\n",
      "DEBUG:url_network:OLD DATA FIND! REMOVING\t./data/EXP_2/edu_regex_raw.txt\n",
      "DEBUG:url_network:Regex has been dump\t./data/EXP_2/edu_regex_raw.txt\n"
     ]
    }
   ],
   "source": [
    "jl.dump(label_path_map, os.path.join(work_dir,\"label_path_map.jl.z\"))\n",
    "porn_regex = publish.convert_to_regex(label_path_map[0], change_digit = True)\n",
    "gambing_regex = publish.convert_to_regex(label_path_map[1], change_digit=True)\n",
    "gov_regex = publish.convert_to_regex(label_path_map[2], change_digit=True)\n",
    "edu_regex = publish.convert_to_regex(label_path_map[3], change_digit=True)\n",
    "\n",
    "dump_regex_list(porn_regex, os.path.join(work_dir,\"porn_regex_raw.txt\"))\n",
    "dump_regex_list(gambing_regex, os.path.join(work_dir,\"gambing_regex_raw.txt\"))\n",
    "dump_regex_list(gov_regex, os.path.join(work_dir,\"gov_regex_raw.txt\"))\n",
    "dump_regex_list(edu_regex, os.path.join(work_dir,\"edu_regex_raw.txt\"))"
   ]
  },
  {
   "cell_type": "markdown",
   "metadata": {},
   "source": [
    "### papare webpage for downloading"
   ]
  },
  {
   "cell_type": "code",
   "execution_count": 5,
   "metadata": {},
   "outputs": [],
   "source": [
    "import random\n",
    "import urlparse\n",
    "sangfor_domain = [urlparse.urlparse(_).hostname for _ in urls]\n",
    "ac_white_domain = file_io.load_ac_domain(ac_root_path = \"../data/ac_white\")\n",
    "ac_porn_domain = load_urls(\"../data/ac_white/色情\", csv = False)"
   ]
  },
  {
   "cell_type": "code",
   "execution_count": 20,
   "metadata": {},
   "outputs": [
    {
     "name": "stdout",
     "output_type": "stream",
     "text": [
      "81056\n",
      "8574\n"
     ]
    }
   ],
   "source": [
    "no_porn_domain = set(ac_white_domain) & set(sangfor_domain)\n",
    "porn_domain = set(ac_porn_domain) & set(sangfor_domain)\n",
    "print len(no_porn_domain)\n",
    "print len(porn_domain)"
   ]
  },
  {
   "cell_type": "code",
   "execution_count": 21,
   "metadata": {},
   "outputs": [],
   "source": [
    "sample_no_porn_domain = random.sample(no_porn_domain, 80000)\n",
    "sample_porn_domain = random.sample(porn_domain, 8000)"
   ]
  },
  {
   "cell_type": "code",
   "execution_count": 22,
   "metadata": {},
   "outputs": [
    {
     "name": "stderr",
     "output_type": "stream",
     "text": [
      "DEBUG:url_network:URLs has been dump\t/home/sparrow/data/sample_no_porn2.txt\n",
      "DEBUG:url_network:URLs has been dump\t/home/sparrow/data/sample_porn2.txt\n",
      "DEBUG:url_network:URLs has been dump\t/home/sparrow/data/domain_queue2.txt\n"
     ]
    }
   ],
   "source": [
    "file_io.dump_urls(sample_no_porn_domain, '/home/sparrow/data/sample_no_porn2.txt', csv = False)\n",
    "file_io.dump_urls(sample_porn_domain, '/home/sparrow/data/sample_porn2.txt', csv = False)\n",
    "file_io.dump_urls(sample_no_porn_domain + sample_porn_domain, '/home/sparrow/data/domain_queue2.txt', csv = False)"
   ]
  }
 ],
 "metadata": {
  "kernelspec": {
   "display_name": "Python 2",
   "language": "python",
   "name": "python2"
  },
  "language_info": {
   "codemirror_mode": {
    "name": "ipython",
    "version": 2
   },
   "file_extension": ".py",
   "mimetype": "text/x-python",
   "name": "python",
   "nbconvert_exporter": "python",
   "pygments_lexer": "ipython2",
   "version": "2.7.14"
  }
 },
 "nbformat": 4,
 "nbformat_minor": 2
}
