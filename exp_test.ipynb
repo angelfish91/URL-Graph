{
 "cells": [
  {
   "cell_type": "code",
   "execution_count": 1,
   "metadata": {},
   "outputs": [],
   "source": [
    "from src import preprocess\n",
    "reload(preprocess)\n",
    "from src import graph\n",
    "reload(graph)\n",
    "from src import file_io\n",
    "reload(file_io)\n",
    "from src import publish\n",
    "reload(publish)\n",
    "\n",
    "import os\n",
    "import urlparse\n",
    "import logging\n",
    "from collections import defaultdict\n",
    "import joblib as jl\n",
    "import pandas as pd\n",
    "\n",
    "from src.graph import build_graph, build_graph_mp\n",
    "from src.preprocess import make_domain_path_split, ac_map_local\n",
    "from src.file_io import load_urls, dump_urls, dump_edge_list, dump_node_list, load_label_data\n",
    "from src.publish import illegal_domain_evaluate,  illegal_domain_evaluate_mp\n",
    "from src.logger import logger\n",
    "logger.setLevel(logging.INFO)"
   ]
  },
  {
   "cell_type": "code",
   "execution_count": 2,
   "metadata": {},
   "outputs": [],
   "source": [
    "work_dir = \"./data/EXP_1\""
   ]
  },
  {
   "cell_type": "code",
   "execution_count": 3,
   "metadata": {
    "scrolled": true
   },
   "outputs": [
    {
     "name": "stderr",
     "output_type": "stream",
     "text": [
      "INFO:url_network:ac white domain list load:9161480\n",
      "INFO:url_network:\n",
      "porn:557\n",
      "gambing:64\n",
      "die:34\n",
      "others:163\n"
     ]
    }
   ],
   "source": [
    "ac_white_domain = file_io.load_ac_domain(ac_root_path = \"../data/ac_white\")\n",
    "\n",
    "ac_gambing_domain = load_urls(\"../data/ac_white/赌博\", csv = False)\n",
    "ac_porn_domain = load_urls(\"../data/ac_white/色情\", csv = False)\n",
    "ac_gov_domain = load_urls(\"../data/ac_white/政府机构\", csv = False)\n",
    "ac_edu_domain = load_urls(\"../data/ac_white/教育\", csv = False)\n",
    "\n",
    "cmt_porn, cmt_gambing, cmt_others, cmt_die = load_label_data(\"../data\")"
   ]
  },
  {
   "cell_type": "code",
   "execution_count": 4,
   "metadata": {},
   "outputs": [],
   "source": [
    "known_gambing = set(cmt_gambing) | set(ac_gambing_domain)\n",
    "known_porn = set(cmt_porn) | set(ac_porn_domain)"
   ]
  },
  {
   "cell_type": "code",
   "execution_count": 5,
   "metadata": {},
   "outputs": [],
   "source": [
    "df = pd.read_csv(\"../data/sangfor/safe_0419.csv\")\n",
    "urls = list(df.url)"
   ]
  },
  {
   "cell_type": "markdown",
   "metadata": {},
   "source": [
    "# evaluate porn"
   ]
  },
  {
   "cell_type": "code",
   "execution_count": 94,
   "metadata": {},
   "outputs": [],
   "source": [
    "trainset_domain = set(ac_porn_domain)\n",
    "regex_porn = file_io.load_regex_list(os.path.join(work_dir,\"porn_regex_raw.txt\"))"
   ]
  },
  {
   "cell_type": "code",
   "execution_count": 48,
   "metadata": {
    "scrolled": true
   },
   "outputs": [
    {
     "name": "stderr",
     "output_type": "stream",
     "text": [
      "INFO:url_network:preprocess time consume:11.837890\n"
     ]
    },
    {
     "name": "stdout",
     "output_type": "stream",
     "text": [
      "                       /template/115porn\tindependent detection 0\ttp 3\tfp 0\n",
      "                         /css/kedou\\.css\tindependent detection 10\ttp 3\tfp 0\n",
      "                /images/search_icon\\.png\tindependent detection 0\ttp 3\tfp 0\n",
      "                    /timev/ad_mode\\.html\tindependent detection 38\ttp 5\tfp 0\n",
      "                          /im20/css\\.css\tindependent detection 1\ttp 3\tfp 0\n",
      "                             /page/\\d{1}\tindependent detection 366\ttp 6\tfp 23\n",
      "               /portal\\.php/favicon\\.ico\tindependent detection 0\ttp 2\tfp 0\n",
      "    /Scripts/jquery-ui-1\\.8\\.20\\.min\\.js\tindependent detection 6\ttp 4\tfp 1\n",
      "                          /content/\\d{3}\tindependent detection 811\ttp 78\tfp 26\n",
      "                       /packs/vod_player\tindependent detection 20\ttp 7\tfp 1\n",
      "                      /includes/url\\.php\tindependent detection 1\ttp 4\tfp 0\n",
      "     /packs/player/ckplayer/ckplayer\\.js\tindependent detection 2\ttp 2\tfp 0\n",
      "                         /adimg/555\\.gif\tindependent detection 0\ttp 2\tfp 0\n",
      "                      /wp-content/images\tindependent detection 0\ttp 2\tfp 0\n",
      "                             /su/in\\.cgi\tindependent detection 0\ttp 4\tfp 0\n",
      "                         /movie/16\\.html\tindependent detection 0\ttp 2\tfp 0\n",
      "                  /images/090521a82\\.jpg\tindependent detection 0\ttp 2\tfp 0\n",
      "                        /skin/1jia0/more\tindependent detection 1\ttp 2\tfp 0\n",
      "/themes/simpleboot3/public/static/js/6d496c3\\.js\tindependent detection 0\ttp 2\tfp 0\n",
      "         /sj/html5/ckplayer/ckplayer\\.js\tindependent detection 1\ttp 2\tfp 0\n",
      "                          /banner/r\\.php\tindependent detection 1\ttp 3\tfp 0\n",
      "                        /template/mobile\tindependent detection 67\ttp 5\tfp 15\n",
      "                    /static/count/tj\\.js\tindependent detection 3\ttp 5\tfp 0\n",
      "            /template/qu_115style/images\tindependent detection 19\ttp 15\tfp 0\n",
      "/skin/ecms049/fonts/fontawesome-webfont\\.woff\tindependent detection 3\ttp 2\tfp 2\n",
      "                       /static/main\\.css\tindependent detection 75\ttp 4\tfp 1\n",
      "                /templets/douying/images\tindependent detection 12\ttp 3\tfp 10\n",
      "   /Tpl/custom//style/images/submit\\.png\tindependent detection 3\ttp 7\tfp 0\n",
      "/static/m_1/fonts/fontawesome-webfont_1\\.woff\tindependent detection 13\ttp 5\tfp 0\n",
      "                         /images/bg\\.png\tindependent detection 12\ttp 5\tfp 1\n",
      "                  /js/player_vjs5_10\\.js\tindependent detection 15\ttp 3\tfp 0\n",
      "                            /img/01\\.png\tindependent detection 20\ttp 3\tfp 2\n",
      "        /fonts/fontawesome-webfont\\.woff\tindependent detection 15\ttp 3\tfp 3\n",
      "    /static/wd/fontawesome-webfont\\.woff\tindependent detection 1\ttp 3\tfp 0\n",
      "                            /img/tu\\.css\tindependent detection 33\ttp 3\tfp 0\n",
      "                      /template/menghuan\tindependent detection 5\ttp 3\tfp 0\n",
      "      /fonts/moicon_5f2af3d33\\.woff\\.htm\tindependent detection 8\ttp 4\tfp 0\n",
      "               /images/tpl_input_bg\\.gif\tindependent detection 16\ttp 3\tfp 0\n",
      "                   /images/cache/240x180\tindependent detection 1\ttp 3\tfp 1\n",
      "                           /uploads/pins\tindependent detection 1\ttp 2\tfp 0\n",
      "/fonts/glyphicons-halflings-regular\\.woff\tindependent detection 11\ttp 2\tfp 5\n",
      "/static/cxudy/fonts/fontawesome-webfont_5\\.woff\tindependent detection 15\ttp 3\tfp 0\n",
      "                /template/av/js/home\\.js\tindependent detection 1\ttp 2\tfp 0\n",
      "                           /inxy/m/\\d{3}\tindependent detection 1\ttp 90\tfp 0\n",
      "          /template/\\d{2}/css/style\\.css\tindependent detection 0\ttp 2\tfp 0\n",
      "                     /template/shouji/js\tindependent detection 26\ttp 2\tfp 3\n",
      "                               /tag/milf\tindependent detection 0\ttp 2\tfp 0\n",
      "                          /dtr/link\\.php\tindependent detection 5\ttp 2\tfp 0\n",
      "                          /gg/dizhi\\.jpg\tindependent detection 1\ttp 2\tfp 0\n",
      "                /template/mobile/default\tindependent detection 24\ttp 2\tfp 2\n",
      "                 /attachment/video/\\d{6}\tindependent detection 1\ttp 4\tfp 0\n",
      "                        /template/shouji\tindependent detection 62\ttp 6\tfp 7\n",
      "        /index_files/common_ec85305\\.css\tindependent detection 2\ttp 2\tfp 0\n",
      "                         /images/cache/x\tindependent detection 3\ttp 4\tfp 0\n",
      "                              /url/p\\.js\tindependent detection 1\ttp 3\tfp 0\n",
      "                    /tp/462336\\.com\\.gif\tindependent detection 0\ttp 2\tfp 0\n",
      "                 /template/shouji/images\tindependent detection 14\ttp 3\tfp 4\n",
      "                         /audio/playList\tindependent detection 0\ttp 2\tfp 0\n",
      "     /sj/Tpl/baibaiwap//style/style\\.css\tindependent detection 1\ttp 2\tfp 0\n",
      "                /img/disclaimer_top\\.png\tindependent detection 1\ttp 3\tfp 0\n",
      "                /js/webThunderDetect\\.js\tindependent detection 10\ttp 2\tfp 4\n",
      "                          /static/m2/css\tindependent detection 0\ttp 2\tfp 0\n",
      "                         /template/\\d{2}\tindependent detection 341\ttp 52\tfp 52\n",
      "            /ck68/ckplayer/ckplayer\\.swf\tindependent detection 0\ttp 2\tfp 0\n",
      "           /css/video-js-5ec20f83e5\\.css\tindependent detection 4\ttp 3\tfp 0\n",
      "                 /m/caiji/zdrkChuFa\\.php\tindependent detection 6\ttp 5\tfp 2\n",
      "                  /template/comiis_19lou\tindependent detection 6\ttp 2\tfp 0\n",
      "                             /gg/xx1\\.js\tindependent detection 48\ttp 5\tfp 0\n",
      "                           /css/all\\.css\tindependent detection 20\ttp 2\tfp 1\n",
      "                                 /g/logo\tindependent detection 3\ttp 2\tfp 0\n",
      "                         /video_gs/login\tindependent detection 112\ttp 2\tfp 4\n",
      "                    /templets/comiis_syw\tindependent detection 4\ttp 11\tfp 0\n",
      "   /templets/comiis_syw/images/logo\\.png\tindependent detection 1\ttp 10\tfp 0\n",
      "   /packs/vod_player/ckplayer/style\\.swf\tindependent detection 6\ttp 2\tfp 0\n",
      "    /template/shouji/images/favicon\\.ico\tindependent detection 0\ttp 2\tfp 0\n",
      "      /assets/cropped-cover-192x192\\.png\tindependent detection 0\ttp 2\tfp 0\n",
      "             /template/ixxzy/js/home\\.js\tindependent detection 0\ttp 2\tfp 0\n",
      "                       /attachment/video\tindependent detection 4\ttp 5\tfp 0\n",
      "           /template/iqqtv/ads/links\\.js\tindependent detection 3\ttp 2\tfp 0\n",
      "       /Templet/\\d{2}/fonts/icomoon\\.ttf\tindependent detection 0\ttp 4\tfp 0\n",
      "                 /template/mobile/images\tindependent detection 7\ttp 2\tfp 3\n",
      "                   /images/xfavicon\\.png\tindependent detection 11\ttp 4\tfp 6\n",
      "                  /resources/img/ok\\.jpg\tindependent detection 0\ttp 2\tfp 0\n",
      "                   /template/qu_115style\tindependent detection 46\ttp 19\tfp 0\n",
      "                          /Templet/\\d{2}\tindependent detection 25\ttp 5\tfp 0\n",
      "                    /fonts/icomoon\\.woff\tindependent detection 9\ttp 3\tfp 1\n",
      "                       /forum/index\\.php\tindependent detection 11\ttp 2\tfp 2\n",
      "   /templets/douying/images/favicon\\.ico\tindependent detection 8\ttp 2\tfp 7\n",
      "                   /tp/yun8882\\.com\\.gif\tindependent detection 1\ttp 2\tfp 0\n",
      "                              /prm/popup\tindependent detection 0\ttp 2\tfp 0\n",
      "                      /static/main-8\\.js\tindependent detection 36\ttp 3\tfp 0\n",
      "                           /ads/ttwz\\.js\tindependent detection 1\ttp 2\tfp 0\n",
      "                             /scj/thumbs\tindependent detection 130\ttp 8\tfp 0\n",
      "                          /content/\\d{2}\tindependent detection 980\ttp 103\tfp 30\n",
      "/tp/%E5%B9%BF%E5%91%8A%E5%BD%A9%E7%A5%A8\\.gif\tindependent detection 0\ttp 2\tfp 0\n",
      "                      /template/shlf1314\tindependent detection 5\ttp 2\tfp 1\n",
      "                    /a16:8q80w300/thumbs\tindependent detection 3\ttp 8\tfp 0\n",
      "                            /wowo/thumbs\tindependent detection 0\ttp 2\tfp 0\n",
      "                          /tool/zb\\.html\tindependent detection 0\ttp 3\tfp 0\n",
      "                         /css/tmain\\.css\tindependent detection 0\ttp 2\tfp 0\n",
      "             /template/nu/css/style\\.css\tindependent detection 0\ttp 2\tfp 0\n",
      "/static/m3/fonts/glyphicons-halflings-regular\\.woff\tindependent detection 3\ttp 2\tfp 0\n",
      "        /template/avsj/images/style\\.css\tindependent detection 1\ttp 2\tfp 0\n",
      "             /skins/style/pic_style\\.css\tindependent detection 5\ttp 2\tfp 0\n",
      "              /g/domain/wapplaytishi\\.js\tindependent detection 0\ttp 2\tfp 0\n",
      "                            /upload/img1\tindependent detection 0\ttp 4\tfp 0\n",
      "                       /img/favicon\\.ico\tindependent detection 23\ttp 3\tfp 5\n",
      "           /static/m2/js/jquery\\.min\\.js\tindependent detection 5\ttp 3\tfp 0\n"
     ]
    },
    {
     "name": "stdout",
     "output_type": "stream",
     "text": [
      "               /template/qu_115style/img\tindependent detection 18\ttp 4\tfp 0\n",
      "                         /images/pc\\.css\tindependent detection 17\ttp 2\tfp 0\n",
      "/video1/jxfikigetqwalfopxbrmuvrjrvtwvc\\.mp4\tindependent detection 1\ttp 4\tfp 0\n",
      "             /other/moicon_2af3d33\\.woff\tindependent detection 0\ttp 2\tfp 0\n",
      "    /iframeplayer/videojs/video\\.min\\.js\tindependent detection 15\ttp 2\tfp 0\n",
      "                        /images/250\\.gif\tindependent detection 1\ttp 2\tfp 0\n",
      "                                 /inxy/m\tindependent detection 1\ttp 90\tfp 0\n",
      "                  /ckplayX/ckplayer\\.swf\tindependent detection 2\ttp 3\tfp 0\n",
      "/iframeplayer/videojs/video-js\\.min\\.css\tindependent detection 16\ttp 3\tfp 0\n",
      "                      /ftt2/toplists/img\tindependent detection 1\ttp 3\tfp 0\n",
      "                   /avoinx/content/\\d{3}\tindependent detection 11\ttp 30\tfp 0\n",
      "          /Tpl/xxxx/images/av_style\\.css\tindependent detection 1\ttp 2\tfp 0\n",
      "                            /app/go\\.asp\tindependent detection 5\ttp 6\tfp 0\n",
      "                         /avoinx/content\tindependent detection 11\ttp 30\tfp 0\n",
      "                          /content/\\d{1}\tindependent detection 1012\ttp 106\tfp 34\n",
      "                           /list/6\\.html\tindependent detection 2\ttp 2\tfp 1\n",
      "/msvod/tpl/skins/msvod/js/jquery\\.SuperSlide\\.2\\.1\\.1\\.js\tindependent detection 1\ttp 2\tfp 0\n",
      "                                 /data/t\tindependent detection 27\ttp 2\tfp 10\n",
      "                             /ads/dh\\.js\tindependent detection 10\ttp 2\tfp 0\n",
      "                /ckplayer6/ckplayer\\.swf\tindependent detection 2\ttp 2\tfp 0\n",
      "                             /html/PIC01\tindependent detection 5\ttp 2\tfp 0\n",
      "/fonts/vendor/bootstrap-sass/bootstrap/glyphicons-halflings-regular\\.woff\tindependent detection 1\ttp 3\tfp 0\n",
      "                           /js/cpc_i\\.js\tindependent detection 7\ttp 2\tfp 5\n",
      "                             /img/1\\.jpg\tindependent detection 31\ttp 3\tfp 2\n",
      "                /player/index31573\\.html\tindependent detection 1\ttp 2\tfp 0\n",
      "                    /player/player\\.html\tindependent detection 3\ttp 2\tfp 1\n",
      "                         /css/18sui\\.gif\tindependent detection 0\ttp 2\tfp 0\n",
      "               /Tpl/custom//style/images\tindependent detection 3\ttp 10\tfp 0\n",
      "                              /static/m2\tindependent detection 8\ttp 5\tfp 0\n",
      "     /Tpl/custom//style/images/logo\\.png\tindependent detection 0\ttp 3\tfp 0\n",
      "                      /mord/toplists/img\tindependent detection 0\ttp 4\tfp 0\n",
      "                       /video/video\\.php\tindependent detection 0\ttp 2\tfp 0\n",
      "                     /api/movies_network\tindependent detection 1\ttp 3\tfp 0\n",
      "                          /fh/6449\\.html\tindependent detection 0\ttp 2\tfp 0\n",
      "          /p/xplayer-446382df6a\\.min\\.js\tindependent detection 4\ttp 2\tfp 0\n",
      "                            /webcam/guys\tindependent detection 0\ttp 2\tfp 0\n",
      "                           /images/cache\tindependent detection 6\ttp 7\tfp 2\n"
     ]
    }
   ],
   "source": [
    "df, fp_map, detect_map = illegal_domain_evaluate_mp(urls,  \n",
    "                                     regex_porn,\n",
    "                                     ac_white_domain,\n",
    "                                     trainset_domain, \n",
    "                                     result_file_path = os.path.join(work_dir,\"porn_regex_res.txt\"),\n",
    "                                     n_jobs = 8)"
   ]
  },
  {
   "cell_type": "code",
   "execution_count": 50,
   "metadata": {},
   "outputs": [
    {
     "name": "stderr",
     "output_type": "stream",
     "text": [
      "INFO:url_network:regular expression publish\t83\n"
     ]
    }
   ],
   "source": [
    "df = publish.regex_publish(input_path = os.path.join(work_dir,\"porn_regex_res.txt\"),\n",
    "                          output_path = os.path.join(work_dir,\"porn_regex_publish.txt\"),\n",
    "                          publish_score = 1,\n",
    "                          publish_fp_thresh=1,\n",
    "                          publish_tp_thresh=1)"
   ]
  },
  {
   "cell_type": "code",
   "execution_count": 98,
   "metadata": {
    "scrolled": true
   },
   "outputs": [
    {
     "name": "stdout",
     "output_type": "stream",
     "text": [
      "batch index 0\tsample index 0\thit url 1\t/images/pc\\.css\n",
      "batch index 1\tsample index 0\thit url 1\t/img/tu\\.css\n",
      "batch index 0\tsample index 1\thit url 1\t/images/bg\\.png\n",
      "batch index 1\tsample index 1\thit url 1\t/static/main\\.css\n",
      "batch index 2\tsample index 0\thit url 2\t/g/logo\n",
      "batch index 0\tsample index 2\thit url 4\t/ftt2/toplists/img\n",
      "batch index 1\tsample index 2\thit url 91\t/inxy/m/\\d{3}\n",
      "batch index 2\tsample index 1\thit url 1\t/sj/Tpl/baibaiwap//style/style\\.css\n",
      "batch index 3\tsample index 0\thit url 2\t/Tpl/custom//style/images\n",
      "batch index 0\tsample index 3\thit url 1\t/msvod/tpl/skins/msvod/js/jquery\\.SuperSlide\\.2\\.1\\.1\\.js\n",
      "batch index 2\tsample index 2\thit url 1\t/ads/dh\\.js\n",
      "batch index 4\tsample index 0\thit url 1\t/packs/player/ckplayer/ckplayer\\.js\n",
      "batch index 3\tsample index 1\thit url 5\t/template/menghuan\n",
      "batch index 1\tsample index 3\thit url 1\t/images/tpl_input_bg\\.gif\n",
      "batch index 0\tsample index 4\thit url 5\t/packs/vod_player\n",
      "batch index 4\tsample index 1\thit url 1\t/url/p\\.js\n",
      "batch index 2\tsample index 3\thit url 5\t/template/comiis_19lou\n",
      "batch index 3\tsample index 2\thit url 1\t/skins/style/pic_style\\.css\n",
      "batch index 5\tsample index 0\thit url 1\t/gg/dizhi\\.jpg\n",
      "batch index 1\tsample index 4\thit url 1\t/static/wd/fontawesome-webfont\\.woff\n",
      "batch index 0\tsample index 5\thit url 1\t/img/disclaimer_top\\.png\n",
      "batch index 2\tsample index 4\thit url 1\t/css/video-js-5ec20f83e5\\.css\n",
      "batch index 3\tsample index 3\thit url 41\t/avoinx/content/\\d{3}\n",
      "batch index 4\tsample index 2\thit url 1\t/ckplayX/ckplayer\\.swf\n",
      "batch index 5\tsample index 1\thit url 1\t/banner/r\\.php\n",
      "batch index 1\tsample index 5\thit url 1\t/p/xplayer-446382df6a\\.min\\.js\n",
      "batch index 6\tsample index 0\thit url 91\t/inxy/m\n",
      "batch index 0\tsample index 6\thit url 5\t/static/m2\n",
      "batch index 2\tsample index 5\thit url 1\t/packs/vod_player/ckplayer/style\\.swf\n",
      "batch index 3\tsample index 4\thit url 11\t/a16:8q80w300/thumbs\n",
      "batch index 1\tsample index 6\thit url 1\t/static/cxudy/fonts/fontawesome-webfont_5\\.woff\n",
      "batch index 4\tsample index 3\thit url 1\t/fonts/icomoon\\.woff\n",
      "batch index 5\tsample index 2\thit url 1\t/gg/xx1\\.js\n",
      "batch index 6\tsample index 1\thit url 15\t/template/qu_115style/images\n",
      "batch index 7\tsample index 0\thit url 1\t/images/250\\.gif\n",
      "batch index 0\tsample index 7\thit url 1\t/sj/html5/ckplayer/ckplayer\\.js\n",
      "batch index 2\tsample index 6\thit url 1\t/iframeplayer/videojs/video-js\\.min\\.css\n",
      "batch index 3\tsample index 5\thit url 1\t/template/av/js/home\\.js\n",
      "batch index 1\tsample index 7\thit url 3\t/templets/comiis_syw\n",
      "batch index 5\tsample index 3\thit url 1\t/static/m_1/fonts/fontawesome-webfont_1\\.woff\n",
      "batch index 4\tsample index 4\thit url 1\t/template/avsj/images/style\\.css\n",
      "batch index 6\tsample index 2\thit url 1\t/tp/yun8882\\.com\\.gif\n",
      "batch index 7\tsample index 1\thit url 2\t/css/all\\.css\n",
      "batch index 0\tsample index 8\thit url 1\t/Scripts/jquery-ui-1\\.8\\.20\\.min\\.js\n",
      "batch index 2\tsample index 7\thit url 1\t/Tpl/custom//style/images/submit\\.png\n",
      "batch index 5\tsample index 4\thit url 30\t/template/qu_115style\n",
      "batch index 3\tsample index 6\thit url 1\t/Tpl/xxxx/images/av_style\\.css\n",
      "batch index 4\tsample index 5\thit url 2\t/skin/1jia0/more\n",
      "batch index 1\tsample index 8\thit url 5\t/attachment/video/\\d{6}\n",
      "batch index 6\tsample index 3\thit url 1\t/fonts/vendor/bootstrap-sass/bootstrap/glyphicons-halflings-regular\\.woff\n",
      "batch index 7\tsample index 2\thit url 41\t/avoinx/content\n",
      "batch index 0\tsample index 9\thit url 1\t/list/6\\.html\n",
      "batch index 2\tsample index 8\thit url 1\t/static/main-8\\.js\n",
      "batch index 5\tsample index 5\thit url 7\t/html/PIC01\n",
      "batch index 3\tsample index 7\thit url 4\t/images/cache/240x180\n",
      "batch index 1\tsample index 9\thit url 1\t/video1/jxfikigetqwalfopxbrmuvrjrvtwvc\\.mp4\n",
      "batch index 4\tsample index 6\thit url 1\t/timev/ad_mode\\.html\n",
      "batch index 6\tsample index 4\thit url 1\t/index_files/common_ec85305\\.css\n",
      "batch index 7\tsample index 3\thit url 1\t/ads/ttwz\\.js\n",
      "batch index 2\tsample index 9\thit url 1\t/js/player_vjs5_10\\.js\n",
      "batch index 5\tsample index 6\thit url 1\t/static/m2/js/jquery\\.min\\.js\n",
      "batch index 3\tsample index 8\thit url 5\t/template/shlf1314\n",
      "batch index 4\tsample index 7\thit url 1\t/css/kedou\\.css\n",
      "batch index 6\tsample index 5\thit url 2\t/uploads/pins\n",
      "batch index 7\tsample index 4\thit url 7\t/images/cache/x\n",
      "batch index 5\tsample index 7\thit url 1\t/templets/comiis_syw/images/logo\\.png\n",
      "batch index 4\tsample index 8\thit url 1\t/im20/css\\.css\n",
      "batch index 6\tsample index 6\thit url 1\t/player/index31573\\.html\n",
      "batch index 3\tsample index 9\thit url 1\t/fonts/moicon_5f2af3d33\\.woff\\.htm\n",
      "batch index 7\tsample index 5\thit url 1\t/player/player\\.html\n",
      "batch index 5\tsample index 8\thit url 1\t/iframeplayer/videojs/video\\.min\\.js\n",
      "batch index 4\tsample index 9\thit url 1\t/template/iqqtv/ads/links\\.js\n",
      "batch index 6\tsample index 7\thit url 1\t/api/movies_network\n",
      "batch index 7\tsample index 6\thit url 1\t/includes/url\\.php\n",
      "batch index 5\tsample index 9\thit url 1\t/app/go\\.asp\n",
      "batch index 6\tsample index 8\thit url 1\t/ckplayer6/ckplayer\\.swf\n",
      "batch index 7\tsample index 7\thit url 1\t/static/count/tj\\.js\n",
      "batch index 6\tsample index 9\thit url 9\t/template/qu_115style/img\n",
      "batch index 7\tsample index 8\thit url 25\t/Templet/\\d{2}\n",
      "batch index 7\tsample index 9\thit url 137\t/scj/thumbs\n",
      "batch index 7\tsample index 10\thit url 9\t/attachment/video\n",
      "batch index 7\tsample index 11\thit url 1\t/dtr/link\\.php\n",
      "batch index 7\tsample index 12\thit url 1\t/static/m3/fonts/glyphicons-halflings-regular\\.woff\n"
     ]
    }
   ],
   "source": [
    "predict_domain, predict_dict = publish.make_prediction(urls, \n",
    "                                                       input_path= os.path.join(work_dir,\"porn_regex_publish.txt\"), \n",
    "                                                       n_jobs=8,\n",
    "                                                       verbose = True)\n",
    "jl.dump([predict_domain, predict_dict], \"./data/predict_porn.jl.z\")"
   ]
  },
  {
   "cell_type": "code",
   "execution_count": 107,
   "metadata": {},
   "outputs": [
    {
     "name": "stdout",
     "output_type": "stream",
     "text": [
      "total detection:723\n",
      "predict porn(trainset/independent):\t222/46\n",
      "new detect:\t455\n"
     ]
    }
   ],
   "source": [
    "predict_domain, predict_dict =  jl.load(\"./data/predict_porn.jl.z\")\n",
    "predict_domain = set(predict_domain) - set(cmt_die) - set([_ for k, __ in fp_map.iteritems() for _ in __])\n",
    "new_detect = predict_domain - known_porn\n",
    "\n",
    "print \"total detection:%d\" %len(predict_domain)\n",
    "print \"predict porn(trainset/independent):\\t%d/%d\" %(len(predict_domain & set(ac_porn_domain)), len(predict_domain & set(cmt_porn)))\n",
    "print \"new detect:\\t%d\" %len(new_detect)\n",
    "\n",
    "dump_urls(list(new_detect), \"./data/predict_porn.txt\")"
   ]
  },
  {
   "cell_type": "markdown",
   "metadata": {},
   "source": [
    "# evaluate gambing"
   ]
  },
  {
   "cell_type": "code",
   "execution_count": 67,
   "metadata": {},
   "outputs": [],
   "source": [
    "trainset_domain = set(ac_gambing_domain)\n",
    "regex_gambing = file_io.load_regex_list(os.path.join(work_dir,\"gambing_regex_raw.txt\"))"
   ]
  },
  {
   "cell_type": "code",
   "execution_count": 68,
   "metadata": {
    "scrolled": true
   },
   "outputs": [
    {
     "name": "stderr",
     "output_type": "stream",
     "text": [
      "INFO:url_network:preprocess time consume:12.055115\n"
     ]
    },
    {
     "name": "stdout",
     "output_type": "stream",
     "text": [
      "                         /images/ta\\.gif\tindependent detection 0\ttp 2\tfp 0\n",
      "                      /images/mark1\\.gif\tindependent detection 1\ttp 2\tfp 0\n",
      "                       /api/download\\.do\tindependent detection 27\ttp 67\tfp 2\n",
      "                        /gg/3300518\\.gif\tindependent detection 0\ttp 2\tfp 0\n",
      "                            /tu/cbw\\.gif\tindependent detection 1\ttp 2\tfp 0\n",
      "                           /css/99z\\.css\tindependent detection 0\ttp 2\tfp 0\n",
      "                              /gg/5\\.htm\tindependent detection 0\ttp 2\tfp 0\n",
      "                       /789_files/3\\.gif\tindependent detection 0\ttp 2\tfp 0\n",
      "                       /manhua/mhxj\\.jpg\tindependent detection 1\ttp 2\tfp 0\n",
      "                            /tu/mhb\\.jpg\tindependent detection 0\ttp 2\tfp 0\n",
      "                       /tuku/tu/v05\\.jpg\tindependent detection 0\ttp 2\tfp 0\n",
      "                             /tu/gp\\.jpg\tindependent detection 1\ttp 2\tfp 0\n",
      "     /Index/Public/JavaScript/bmjs00\\.js\tindependent detection 6\ttp 2\tfp 1\n",
      "                         /images/gl\\.gif\tindependent detection 4\ttp 2\tfp 0\n",
      "                          /tu/zhong\\.gif\tindependent detection 6\ttp 4\tfp 0\n",
      "                              /ym/images\tindependent detection 0\ttp 3\tfp 0\n",
      "                          /images/z\\.gif\tindependent detection 1\ttp 3\tfp 0\n",
      "                      /idxtpl/images/hot\tindependent detection 0\ttp 2\tfp 0\n",
      "                              /js/dl\\.js\tindependent detection 2\ttp 3\tfp 1\n",
      "                        /images2/gs\\.css\tindependent detection 0\ttp 2\tfp 0\n",
      "                             /tu/bj\\.jpg\tindependent detection 0\ttp 4\tfp 0\n",
      "                  /images/index_151\\.jpg\tindependent detection 0\ttp 2\tfp 0\n",
      "                             /tu/tb\\.gif\tindependent detection 2\ttp 6\tfp 0\n",
      "                           /tu/jing\\.gif\tindependent detection 3\ttp 2\tfp 0\n",
      "                     /images/banner\\.png\tindependent detection 4\ttp 2\tfp 0\n",
      "                              /tu/z\\.gif\tindependent detection 1\ttp 3\tfp 0\n",
      "                       /images/lan1\\.gif\tindependent detection 2\ttp 2\tfp 0\n",
      "                /index\\.files/jgflt\\.gif\tindependent detection 3\ttp 2\tfp 0\n",
      "                          /tukuk/15\\.jpg\tindependent detection 2\ttp 2\tfp 0\n",
      "                          /tu/79333\\.gif\tindependent detection 1\ttp 2\tfp 0\n",
      "                      /views/mobile/imgs\tindependent detection 2\ttp 2\tfp 0\n",
      "                  /images/m1\\.10500\\.gif\tindependent detection 0\ttp 2\tfp 0\n",
      "                            /tu/off\\.gif\tindependent detection 0\ttp 2\tfp 0\n",
      "                        /lhc/sg668\\.html\tindependent detection 0\ttp 2\tfp 0\n",
      "                  /js/ZeroClipboard\\.swf\tindependent detection 11\ttp 2\tfp 3\n",
      "                   /notice/marquee\\.html\tindependent detection 0\ttp 4\tfp 0\n",
      "                  /ggt/aicai/aicai1\\.gif\tindependent detection 1\ttp 2\tfp 0\n",
      "                           /\\d{3}/1\\.htm\tindependent detection 1\ttp 2\tfp 0\n",
      " /Index/Public/JavaScript/superslide\\.js\tindependent detection 4\ttp 3\tfp 0\n",
      "                           /tu/7964\\.gif\tindependent detection 0\ttp 2\tfp 0\n",
      "                        /images/wx2\\.gif\tindependent detection 0\ttp 3\tfp 0\n",
      "                      /images/zhong\\.gif\tindependent detection 7\ttp 2\tfp 0\n",
      "                             /zl/24m\\.js\tindependent detection 2\ttp 2\tfp 0\n",
      "                            /img/tb\\.gif\tindependent detection 0\ttp 2\tfp 0\n",
      "                  /index_files/ttt1\\.gif\tindependent detection 0\ttp 2\tfp 0\n",
      "                   /htm_data/\\d{1}/\\d{4}\tindependent detection 33\ttp 9\tfp 0\n",
      "            /images/wind/wind-reset\\.css\tindependent detection 9\ttp 11\tfp 0\n",
      "                             /img/1\\.gif\tindependent detection 3\ttp 2\tfp 0\n",
      "                              //btn\\.jpg\tindependent detection 2\ttp 3\tfp 0\n",
      "                            /tu/jjj\\.gif\tindependent detection 0\ttp 2\tfp 0\n",
      "                          /files/article\tindependent detection 1129\ttp 15\tfp 201\n",
      "                         /tukuk/xpg\\.jpg\tindependent detection 1\ttp 2\tfp 1\n",
      "                            /images/face\tindependent detection 110\ttp 2\tfp 4\n",
      "                            /images/wind\tindependent detection 12\ttp 12\tfp 0\n",
      "                            /tu/c52\\.jpg\tindependent detection 2\ttp 3\tfp 0\n",
      "                       /img-gg/9733\\.gif\tindependent detection 1\ttp 2\tfp 0\n",
      "                              /gg/1\\.htm\tindependent detection 0\ttp 2\tfp 0\n",
      "                       /images/swzy\\.gif\tindependent detection 0\ttp 2\tfp 0\n",
      "                                    /d/i\tindependent detection 163\ttp 3\tfp 8\n",
      "                          /images/d\\.gif\tindependent detection 2\ttp 4\tfp 1\n",
      "                     /images/topdot\\.gif\tindependent detection 0\ttp 2\tfp 0\n",
      "                           /yl/jin8\\.gif\tindependent detection 1\ttp 3\tfp 0\n",
      "                       /img/jiantou\\.gif\tindependent detection 4\ttp 2\tfp 0\n",
      "/tu/%E9%A6%99%E6%B8%AF%E6%8C%82%E7%89%8C\\.jpg\tindependent detection 2\ttp 2\tfp 0\n",
      "                       /images/ttt1\\.gif\tindependent detection 3\ttp 2\tfp 0\n",
      "                                /tuku/tu\tindependent detection 5\ttp 7\tfp 0\n",
      "                            /new/tj\\.gif\tindependent detection 0\ttp 2\tfp 0\n",
      "                    /images/erweima\\.png\tindependent detection 3\ttp 2\tfp 1\n",
      "                           /img/www\\.jpg\tindependent detection 0\ttp 2\tfp 0\n",
      "                           /tu/gpxj\\.jpg\tindependent detection 1\ttp 2\tfp 0\n",
      "                              /tu/0\\.gif\tindependent detection 2\ttp 2\tfp 0\n",
      "                              /tu/i\\.gif\tindependent detection 12\ttp 10\tfp 0\n",
      "                       /GG/images/0\\.gif\tindependent detection 0\ttp 2\tfp 0\n",
      "      /market/yifen345_redbag/index\\.php\tindependent detection 0\ttp 5\tfp 0\n",
      "                         /images/jt\\.gif\tindependent detection 12\ttp 7\tfp 0\n",
      "                          /baidu/17\\.htm\tindependent detection 0\ttp 2\tfp 0\n",
      "                              /tu/6\\.gif\tindependent detection 2\ttp 2\tfp 0\n",
      "                          /gg/37478\\.gif\tindependent detection 0\ttp 2\tfp 0\n",
      "                       /jingpintiezi/bbs\tindependent detection 2\ttp 2\tfp 0\n",
      "                          /images/b\\.gif\tindependent detection 4\ttp 2\tfp 0\n",
      "                           /Index/Public\tindependent detection 13\ttp 8\tfp 1\n",
      "                          /images/i\\.gif\tindependent detection 9\ttp 5\tfp 0\n",
      "                          /tu/amblr\\.gif\tindependent detection 0\ttp 2\tfp 0\n",
      "                             /tu/1p\\.gif\tindependent detection 1\ttp 2\tfp 0\n",
      "                        /jiu/jiu099\\.jpg\tindependent detection 0\ttp 2\tfp 0\n",
      "                  /images/arrow_red\\.gif\tindependent detection 2\ttp 6\tfp 0\n",
      "                              /js/wx\\.js\tindependent detection 10\ttp 2\tfp 2\n",
      "                           /gg/ggzz\\.gif\tindependent detection 1\ttp 2\tfp 0\n",
      "                                 /cl/tpl\tindependent detection 24\ttp 2\tfp 2\n",
      "                         /images/tb\\.gif\tindependent detection 1\ttp 5\tfp 0\n",
      "                       /style/index\\.css\tindependent detection 21\ttp 6\tfp 6\n",
      " /8878ws/jquery\\.SuperSlide\\.2\\.1\\.1\\.js\tindependent detection 0\ttp 2\tfp 0\n",
      "     /skin/pc/js/jquery-2\\.2\\.4\\.min\\.js\tindependent detection 1\ttp 3\tfp 0\n",
      "                /images/headtopic_2\\.gif\tindependent detection 0\ttp 2\tfp 0\n",
      "                        /account/getInfo\tindependent detection 0\ttp 2\tfp 0\n",
      "                          /tu/style\\.css\tindependent detection 0\ttp 4\tfp 0\n",
      "                             /tu/wx\\.jpg\tindependent detection 0\ttp 2\tfp 0\n",
      "                            /Xml/Article\tindependent detection 3\ttp 5\tfp 0\n",
      "                        /images/QQQ\\.gif\tindependent detection 1\ttp 2\tfp 0\n",
      "                     /bbs/js/pw_ajax\\.js\tindependent detection 15\ttp 10\tfp 1\n",
      "                         /images/bg\\.gif\tindependent detection 13\ttp 4\tfp 0\n",
      "                           /tu/shou\\.gif\tindependent detection 3\ttp 5\tfp 0\n",
      "                       /images/ttt9\\.gif\tindependent detection 7\ttp 3\tfp 0\n",
      "          /js/vendor-new/jquery\\.min\\.js\tindependent detection 15\ttp 3\tfp 0\n",
      "                /index\\.files/01481\\.gif\tindependent detection 1\ttp 2\tfp 0\n",
      "                            /img/zu\\.gif\tindependent detection 3\ttp 3\tfp 0\n",
      "                      /static/lts/images\tindependent detection 15\ttp 5\tfp 0\n",
      "                           /tu/1-49\\.gif\tindependent detection 1\ttp 3\tfp 0\n",
      "                          /html/top\\.htm\tindependent detection 1\ttp 2\tfp 0\n"
     ]
    },
    {
     "name": "stdout",
     "output_type": "stream",
     "text": [
      "                     /bbs/img/zzyy1\\.jpg\tindependent detection 0\ttp 2\tfp 0\n",
      "                         /dltu/gif1\\.gif\tindependent detection 0\ttp 2\tfp 0\n",
      "                           /tu/01234\\.js\tindependent detection 1\ttp 2\tfp 0\n",
      "                            /tu/c35\\.gif\tindependent detection 1\ttp 2\tfp 0\n",
      "                           /js/slide\\.js\tindependent detection 5\ttp 3\tfp 1\n",
      "                             /tu/wx\\.gif\tindependent detection 0\ttp 2\tfp 0\n",
      "                                /new/img\tindependent detection 6\ttp 2\tfp 0\n",
      "                            /tu/sbx\\.jpg\tindependent detection 2\ttp 2\tfp 0\n",
      "                        /tu/7580666\\.gif\tindependent detection 0\ttp 2\tfp 0\n",
      "                         /tu/kbcptu\\.gif\tindependent detection 0\ttp 2\tfp 0\n",
      "                     /Source/dm/d10\\.htm\tindependent detection 1\ttp 3\tfp 0\n",
      "                          /tu/hot_1\\.gif\tindependent detection 1\ttp 2\tfp 0\n",
      "                           /tu/wxdt\\.gif\tindependent detection 5\ttp 4\tfp 1\n",
      "                           /tu/logo\\.gif\tindependent detection 2\ttp 3\tfp 0\n",
      "                       /images/1010\\.gif\tindependent detection 0\ttp 2\tfp 0\n",
      "                          /home/register\tindependent detection 2\ttp 4\tfp 2\n",
      "                       /images/f146\\.swf\tindependent detection 1\ttp 2\tfp 0\n",
      "                         /images/re\\.gif\tindependent detection 3\ttp 2\tfp 1\n",
      "                          /zl/sss66\\.htm\tindependent detection 1\ttp 2\tfp 0\n",
      "                       /diaoyong/g\\.html\tindependent detection 2\ttp 2\tfp 0\n",
      "                         /gg/tiezi1\\.htm\tindependent detection 2\ttp 3\tfp 1\n",
      "                            /tu/111\\.jpg\tindependent detection 3\ttp 3\tfp 0\n",
      "                           /bbs/zu1\\.gif\tindependent detection 1\ttp 3\tfp 0\n",
      "                     /Source/css/ld\\.css\tindependent detection 88\ttp 2\tfp 4\n",
      "                      /images/logo3\\.gif\tindependent detection 2\ttp 2\tfp 0\n",
      "                      /tukuk/tu/v23\\.jpg\tindependent detection 0\ttp 2\tfp 0\n",
      "                              /Source/dm\tindependent detection 12\ttp 5\tfp 0\n",
      "                            /User/Regist\tindependent detection 3\ttp 3\tfp 2\n",
      "                            /tu/zu1\\.gif\tindependent detection 3\ttp 2\tfp 0\n",
      "                        /chajian/I\\.html\tindependent detection 13\ttp 5\tfp 0\n",
      "                       /kaijiang/a\\.html\tindependent detection 0\ttp 2\tfp 0\n",
      "                             /tu/ss\\.gif\tindependent detection 4\ttp 3\tfp 0\n",
      "                          /imges/tu\\.png\tindependent detection 0\ttp 2\tfp 0\n",
      "                          /sima/lbw\\.jpg\tindependent detection 0\ttp 2\tfp 0\n",
      "                              /tu/s\\.gif\tindependent detection 0\ttp 2\tfp 0\n",
      "                      /images/yh555\\.gif\tindependent detection 1\ttp 2\tfp 0\n",
      "                        /images/ddd\\.gif\tindependent detection 5\ttp 2\tfp 0\n",
      "                         /wx/btn-gb\\.png\tindependent detection 2\ttp 2\tfp 0\n",
      "                         /images/sz\\.gif\tindependent detection 0\ttp 2\tfp 0\n",
      "                        /images/987\\.png\tindependent detection 0\ttp 2\tfp 0\n",
      "                  /images/tupian443\\.gif\tindependent detection 0\ttp 2\tfp 0\n",
      "                /css/bootstrap\\.min\\.css\tindependent detection 84\ttp 2\tfp 16\n",
      "                       /\\d{2}/clock\\.swf\tindependent detection 0\ttp 2\tfp 0\n",
      "                /k/js/ZeroClipboard\\.swf\tindependent detection 3\ttp 2\tfp 0\n",
      "                            /tu/111\\.gif\tindependent detection 1\ttp 2\tfp 0\n",
      "                                /bbs/img\tindependent detection 18\ttp 8\tfp 3\n",
      "                          /service/vpkey\tindependent detection 0\ttp 2\tfp 0\n",
      "                            /gg/168\\.htm\tindependent detection 0\ttp 2\tfp 0\n",
      "                      /tupian/mark1\\.gif\tindependent detection 0\ttp 2\tfp 0\n",
      "        /views/caipiao/scripts/js/bm\\.js\tindependent detection 3\ttp 2\tfp 0\n",
      "                        /images/wx1\\.gif\tindependent detection 0\ttp 2\tfp 0\n",
      "                       /bbs/img/ddd\\.gif\tindependent detection 4\ttp 2\tfp 0\n",
      "                        /images/tj1\\.gif\tindependent detection 0\ttp 2\tfp 0\n",
      "                        /images/jin\\.gif\tindependent detection 0\ttp 2\tfp 0\n",
      "          /static/lts/images/header\\.jpg\tindependent detection 7\ttp 3\tfp 0\n",
      "                             /tu/15\\.jpg\tindependent detection 1\ttp 5\tfp 0\n",
      "                        /hhsss/1122\\.htm\tindependent detection 0\ttp 2\tfp 0\n",
      "                             /bo360/chat\tindependent detection 14\ttp 4\tfp 0\n",
      "/tu/005FCMJvgw1f59zr4guzjg306r01cq2w\\.gif\tindependent detection 1\ttp 2\tfp 0\n",
      "                             /tu/gl\\.gif\tindependent detection 2\ttp 3\tfp 0\n",
      "                             /tu/js\\.gif\tindependent detection 0\ttp 2\tfp 0\n",
      "/Index/Public/JavaScript/ZeroClipboard0\\.swf\tindependent detection 2\ttp 2\tfp 1\n",
      "                         /js/pw_ajax\\.js\tindependent detection 3\ttp 2\tfp 0\n",
      "                 /images/icon_top_3\\.gif\tindependent detection 3\ttp 2\tfp 0\n",
      "                          /Base/reg/code\tindependent detection 2\ttp 2\tfp 0\n",
      "                         /tu/sbx127\\.jpg\tindependent detection 1\ttp 6\tfp 0\n",
      "            /js/zclip/ZeroClipboard\\.swf\tindependent detection 0\ttp 47\tfp 0\n",
      "                           /tu/mark\\.gif\tindependent detection 6\ttp 4\tfp 0\n",
      "                              /tu/1\\.gif\tindependent detection 1\ttp 2\tfp 0\n",
      "                           /tu/ktzx\\.jpg\tindependent detection 4\ttp 2\tfp 0\n",
      "                         /yl/839555\\.gif\tindependent detection 0\ttp 3\tfp 0\n",
      "                  /static/superslide\\.js\tindependent detection 1\ttp 2\tfp 0\n",
      "                       /images/mark\\.gif\tindependent detection 1\ttp 3\tfp 0\n",
      "/javax\\.faces\\.resource/jquery/jquery\\.js\\.php\tindependent detection 4\ttp 4\tfp 0\n",
      "                       /zh-cn/index\\.php\tindependent detection 1\ttp 2\tfp 0\n",
      "                             /static/lts\tindependent detection 18\ttp 6\tfp 0\n",
      "                           /tu/sys1\\.gif\tindependent detection 2\ttp 3\tfp 0\n",
      "/img/jquery\\.SuperSlide\\.2\\.1\\.1\\.js\\.js\tindependent detection 10\ttp 2\tfp 2\n",
      "             /js/jquery-1\\.8\\.3\\.min\\.js\tindependent detection 27\ttp 4\tfp 10\n",
      "                       /images/shou\\.gif\tindependent detection 4\ttp 4\tfp 0\n",
      "                           /csb/001\\.jpg\tindependent detection 0\ttp 2\tfp 0\n",
      "                      /public/logo2\\.png\tindependent detection 0\ttp 3\tfp 0\n",
      "                         /ggg/tu/n4\\.jpg\tindependent detection 0\ttp 2\tfp 0\n",
      "                          /tu/bk_06\\.png\tindependent detection 0\ttp 3\tfp 0\n",
      "                /Index/Public/JavaScript\tindependent detection 12\ttp 7\tfp 1\n"
     ]
    }
   ],
   "source": [
    "df, fp_map, detect_map = illegal_domain_evaluate_mp(urls,  \n",
    "                                     regex_gambing,\n",
    "                                     ac_white_domain,\n",
    "                                     trainset_domain, \n",
    "                                     result_file_path = os.path.join(work_dir,\"gambing_regex_res.txt\"),\n",
    "                                     n_jobs = 8)"
   ]
  },
  {
   "cell_type": "code",
   "execution_count": 120,
   "metadata": {},
   "outputs": [
    {
     "name": "stderr",
     "output_type": "stream",
     "text": [
      "INFO:url_network:regular expression publish\t113\n"
     ]
    }
   ],
   "source": [
    "df = publish.regex_publish(input_path = os.path.join(work_dir,\"gambing_regex_res.txt\"),\n",
    "                          output_path = os.path.join(work_dir,\"gambing_regex_publish.txt\"),\n",
    "                          publish_score = 1,\n",
    "                          publish_fp_thresh=1,\n",
    "                          publish_tp_thresh=1)"
   ]
  },
  {
   "cell_type": "code",
   "execution_count": 121,
   "metadata": {
    "scrolled": true
   },
   "outputs": [
    {
     "name": "stdout",
     "output_type": "stream",
     "text": [
      "batch index 0\tsample index 0\thit url 1\t/tu/zhong\\.gif\n",
      "batch index 0\tsample index 1\thit url 1\t/images/arrow_red\\.gif\n",
      "batch index 1\tsample index 0\thit url 1\t/images/gl\\.gif\n",
      "batch index 2\tsample index 0\thit url 1\t/tu/%E9%A6%99%E6%B8%AF%E6%8C%82%E7%89%8C\\.jpg\n",
      "batch index 0\tsample index 2\thit url 1\t/index\\.files/jgflt\\.gif\n",
      "batch index 1\tsample index 1\thit url 1\t/images/lan1\\.gif\n",
      "batch index 3\tsample index 0\thit url 1\t/tu/gpxj\\.jpg\n",
      "batch index 2\tsample index 1\thit url 1\t/img-gg/9733\\.gif\n",
      "batch index 0\tsample index 3\thit url 1\t/tukuk/xpg\\.jpg\n",
      "batch index 1\tsample index 2\thit url 1\t/bo360/chat\n",
      "batch index 4\tsample index 0\thit url 1\t/tu/ktzx\\.jpg\n",
      "batch index 3\tsample index 1\thit url 1\t/images/zhong\\.gif\n",
      "batch index 2\tsample index 2\thit url 1\t/images/bg\\.gif\n",
      "batch index 0\tsample index 4\thit url 1\t/images/d\\.gif\n",
      "batch index 1\tsample index 3\thit url 8\t/Xml/Article\n",
      "batch index 4\tsample index 1\thit url 1\t/images/z\\.gif\n",
      "batch index 3\tsample index 2\thit url 1\t/js/dl\\.js\n",
      "batch index 2\tsample index 3\thit url 1\t/gg/ggzz\\.gif\n",
      "batch index 5\tsample index 0\thit url 1\t/Index/Public/JavaScript/ZeroClipboard0\\.swf\n",
      "batch index 0\tsample index 5\thit url 1\t/images/erweima\\.png\n",
      "batch index 1\tsample index 4\thit url 1\t/img/zu\\.gif\n",
      "batch index 3\tsample index 3\thit url 1\t/images/i\\.gif\n",
      "batch index 2\tsample index 4\thit url 1\t/js/vendor-new/jquery\\.min\\.js\n",
      "batch index 5\tsample index 1\thit url 0\t//btn\\.jpg\n",
      "batch index 0\tsample index 6\thit url 1\t/tu/1p\\.gif\n",
      "batch index 6\tsample index 0\thit url 1\t/tu/sbx127\\.jpg\n",
      "batch index 4\tsample index 2\thit url 8\t/tuku/tu\n",
      "batch index 1\tsample index 5\thit url 1\t/js/slide\\.js\n",
      "batch index 3\tsample index 4\thit url 1\t/tu/c52\\.jpg\n",
      "batch index 5\tsample index 2\thit url 1\t/images/mark\\.gif\n",
      "batch index 2\tsample index 5\thit url 1\t/Source/dm/d10\\.htm\n",
      "batch index 7\tsample index 0\thit url 1\t/zh-cn/index\\.php\n",
      "batch index 0\tsample index 7\thit url 1\t/bbs/js/pw_ajax\\.js\n",
      "batch index 6\tsample index 1\thit url 11\t/static/lts\n",
      "batch index 1\tsample index 6\thit url 1\t/tu/hot_1\\.gif\n",
      "batch index 4\tsample index 3\thit url 1\t/tu/mark\\.gif\n",
      "batch index 5\tsample index 3\thit url 1\t/tu/sys1\\.gif\n",
      "batch index 3\tsample index 5\thit url 1\t/images/QQQ\\.gif\n",
      "batch index 2\tsample index 6\thit url 1\t/zl/sss66\\.htm\n",
      "batch index 0\tsample index 8\thit url 1\t/tu/1-49\\.gif\n",
      "batch index 7\tsample index 1\thit url 1\t/img/1\\.gif\n",
      "batch index 6\tsample index 2\thit url 1\t/images/shou\\.gif\n",
      "batch index 1\tsample index 7\thit url 1\t/diaoyong/g\\.html\n",
      "batch index 4\tsample index 4\thit url 1\t/images/ttt1\\.gif\n",
      "batch index 5\tsample index 4\thit url 1\t/tu/tb\\.gif\n",
      "batch index 3\tsample index 6\thit url 9\t/static/lts/images\n",
      "batch index 2\tsample index 7\thit url 8\t/Source/dm\n",
      "batch index 7\tsample index 2\thit url 1\t/ggt/aicai/aicai1\\.gif\n",
      "batch index 0\tsample index 9\thit url 7\t/new/img\n",
      "batch index 6\tsample index 3\thit url 1\t/tu/79333\\.gif\n",
      "batch index 4\tsample index 5\thit url 5\t/Index/Public\n",
      "batch index 1\tsample index 8\thit url 1\t/images/yh555\\.gif\n",
      "batch index 5\tsample index 5\thit url 1\t/Index/Public/JavaScript/superslide\\.js\n",
      "batch index 3\tsample index 7\thit url 1\t/tu/wxdt\\.gif\n",
      "batch index 0\tsample index 10\thit url 1\t/bbs/zu1\\.gif\n",
      "batch index 2\tsample index 8\thit url 1\t/javax\\.faces\\.resource/jquery/jquery\\.js\\.php\n",
      "batch index 6\tsample index 4\thit url 2\t/\\d{3}/1\\.htm\n",
      "batch index 7\tsample index 3\thit url 1\t/tu/zu1\\.gif\n",
      "batch index 4\tsample index 6\thit url 1\t/images/tb\\.gif\n",
      "batch index 1\tsample index 9\thit url 1\t/k/js/ZeroClipboard\\.swf\n",
      "batch index 3\tsample index 8\thit url 1\t/gg/tiezi1\\.htm\n",
      "batch index 5\tsample index 6\thit url 1\t/images/wind/wind-reset\\.css\n",
      "batch index 0\tsample index 11\thit url 1\t/images/mark1\\.gif\n",
      "batch index 2\tsample index 9\thit url 1\t/views/caipiao/scripts/js/bm\\.js\n",
      "batch index 7\tsample index 4\thit url 1\t/images/banner\\.png\n",
      "batch index 6\tsample index 5\thit url 41\t/htm_data/\\d{1}/\\d{4}\n",
      "batch index 4\tsample index 7\thit url 1\t/index\\.files/01481\\.gif\n",
      "batch index 1\tsample index 10\thit url 1\t/bbs/img/ddd\\.gif\n",
      "batch index 3\tsample index 9\thit url 1\t/images/ddd\\.gif\n",
      "batch index 5\tsample index 7\thit url 1\t/img/jiantou\\.gif\n",
      "batch index 0\tsample index 12\thit url 1\t/tu/cbw\\.gif\n",
      "batch index 2\tsample index 10\thit url 1\t/zl/24m\\.js\n",
      "batch index 7\tsample index 5\thit url 1\t/tu/jing\\.gif\n",
      "batch index 4\tsample index 8\thit url 1\t/tu/c35\\.gif\n",
      "batch index 6\tsample index 6\thit url 5\t/images/wind\n",
      "batch index 1\tsample index 11\thit url 1\t/tu/gl\\.gif\n",
      "batch index 0\tsample index 13\thit url 1\t/manhua/mhxj\\.jpg\n",
      "batch index 5\tsample index 8\thit url 1\t/tu/0\\.gif\n",
      "batch index 3\tsample index 10\thit url 1\t/tu/111\\.gif\n",
      "batch index 2\tsample index 11\thit url 1\t/tu/gp\\.jpg\n",
      "batch index 7\tsample index 6\thit url 2\t/html/top\\.htm\n",
      "batch index 4\tsample index 9\thit url 1\t/tu/logo\\.gif\n",
      "batch index 6\tsample index 7\thit url 1\t/yl/jin8\\.gif\n",
      "batch index 1\tsample index 12\thit url 1\t/Index/Public/JavaScript/bmjs00\\.js\n",
      "batch index 3\tsample index 11\thit url 1\t/skin/pc/js/jquery-2\\.2\\.4\\.min\\.js\n",
      "batch index 5\tsample index 9\thit url 3\t/jingpintiezi/bbs\n",
      "batch index 2\tsample index 12\thit url 1\t/tu/i\\.gif\n",
      "batch index 7\tsample index 7\thit url 1\t/tu/sbx\\.jpg\n",
      "batch index 4\tsample index 10\thit url 1\t/tu/111\\.jpg\n",
      "batch index 6\tsample index 8\thit url 1\t/tu/shou\\.gif\n",
      "batch index 1\tsample index 13\thit url 1\t/tukuk/15\\.jpg\n",
      "batch index 5\tsample index 10\thit url 1\t/tu/6\\.gif\n",
      "batch index 3\tsample index 12\thit url 1\t/images/b\\.gif\n",
      "batch index 2\tsample index 13\thit url 1\t/wx/btn-gb\\.png\n",
      "batch index 7\tsample index 8\thit url 1\t/tu/ss\\.gif\n",
      "batch index 4\tsample index 11\thit url 1\t/chajian/I\\.html\n",
      "batch index 6\tsample index 9\thit url 1\t/images/f146\\.swf\n",
      "batch index 5\tsample index 11\thit url 1\t/images/ttt9\\.gif\n",
      "batch index 3\tsample index 13\thit url 1\t/static/superslide\\.js\n",
      "batch index 7\tsample index 9\thit url 1\t/tu/15\\.jpg\n",
      "batch index 4\tsample index 12\thit url 1\t/tu/z\\.gif\n",
      "batch index 6\tsample index 10\thit url 1\t/images/logo3\\.gif\n",
      "batch index 5\tsample index 12\thit url 1\t/images/re\\.gif\n",
      "batch index 7\tsample index 10\thit url 1\t/js/pw_ajax\\.js\n",
      "batch index 4\tsample index 13\thit url 1\t/static/lts/images/header\\.jpg\n",
      "batch index 6\tsample index 11\thit url 3\t/Base/reg/code\n",
      "batch index 5\tsample index 13\thit url 1\t/tu/005FCMJvgw1f59zr4guzjg306r01cq2w\\.gif\n",
      "batch index 7\tsample index 11\thit url 1\t/tu/1\\.gif\n",
      "batch index 6\tsample index 12\thit url 1\t/images/icon_top_3\\.gif\n",
      "batch index 7\tsample index 12\thit url 1\t/tu/01234\\.js\n",
      "batch index 6\tsample index 13\thit url 1\t/images/jt\\.gif\n",
      "batch index 7\tsample index 13\thit url 2\t/views/mobile/imgs\n",
      "batch index 7\tsample index 14\thit url 3\t/Index/Public/JavaScript\n"
     ]
    },
    {
     "data": {
      "text/plain": [
       "['./data/predict_gambing.jl.z']"
      ]
     },
     "execution_count": 121,
     "metadata": {},
     "output_type": "execute_result"
    }
   ],
   "source": [
    "predict_domain, predict_dict = publish.make_prediction(urls, \n",
    "                                                       input_path= os.path.join(work_dir,\"gambing_regex_publish.txt\"), \n",
    "                                                       n_jobs=8,\n",
    "                                                       verbose = True)\n",
    "jl.dump([predict_domain, predict_dict], \"./data/predict_gambing.jl.z\")"
   ]
  },
  {
   "cell_type": "code",
   "execution_count": 166,
   "metadata": {},
   "outputs": [
    {
     "name": "stdout",
     "output_type": "stream",
     "text": [
      "total detection:634\n",
      "predict porn(trainset/independent):\t288/15\n",
      "new detect:\t331\n"
     ]
    }
   ],
   "source": [
    "predict_domain, predict_dict =  jl.load(\"./data/predict_gambing.jl.z\")\n",
    "predict_domain = set(predict_domain) - set(cmt_die) - set([_ for k, __ in fp_map.iteritems() for _ in __])\n",
    "new_detect = predict_domain - known_gambing\n",
    "\n",
    "print \"total detection:%d\" %len(predict_domain)\n",
    "print \"predict porn(trainset/independent):\\t%d/%d\" %(len(predict_domain & set(ac_gambing_domain)), len(predict_domain & set(cmt_gambing)))\n",
    "print \"new detect:\\t%d\" %len(new_detect)\n",
    "\n",
    "dump_urls(list(new_detect), \"./data/predict_gambing.txt\")"
   ]
  },
  {
   "cell_type": "markdown",
   "metadata": {},
   "source": [
    "# evaluate gov"
   ]
  },
  {
   "cell_type": "code",
   "execution_count": 128,
   "metadata": {},
   "outputs": [],
   "source": [
    "trainset_domain = set(ac_gov_domain)\n",
    "regex_gov = file_io.load_regex_list(os.path.join(work_dir,\"gov_regex_raw.txt\"))"
   ]
  },
  {
   "cell_type": "code",
   "execution_count": 129,
   "metadata": {
    "scrolled": true
   },
   "outputs": [
    {
     "name": "stderr",
     "output_type": "stream",
     "text": [
      "INFO:url_network:preprocess time consume:12.346192\n"
     ]
    },
    {
     "name": "stdout",
     "output_type": "stream",
     "text": [
      "         /images/jquery-1\\.7\\.2\\.min\\.js\tindependent detection 0\ttp 2\tfp 0\n",
      "  /govdiropen/jcms_files/jcms1/web1/site\tindependent detection 0\ttp 2\tfp 0\n",
      "                       /baweb/show/shiju\tindependent detection 0\ttp 2\tfp 0\n",
      "                               /cms/html\tindependent detection 44\ttp 35\tfp 2\n",
      "                            /zwgk/system\tindependent detection 0\ttp 3\tfp 0\n",
      "                              /doc/\\d{4}\tindependent detection 42\ttp 25\tfp 3\n",
      "                /openness/detail/content\tindependent detection 10\ttp 9\tfp 0\n",
      "                     /supervision/detail\tindependent detection 0\ttp 3\tfp 0\n",
      "/sitefiles/bairong/scripts/independent/tracker\\.js\tindependent detection 4\ttp 2\tfp 0\n",
      "                              /xxgk/tzgg\tindependent detection 2\ttp 9\tfp 0\n",
      "/javax\\.faces\\.resource/primefaces\\.js\\.jspx\tindependent detection 3\ttp 3\tfp 3\n",
      " /WXA11Y/soundmanager2-nodebug-jsmin\\.js\tindependent detection 2\ttp 2\tfp 0\n",
      "                              /ztzl/zxzt\tindependent detection 0\ttp 6\tfp 0\n",
      "                        /web/bottom\\.jsp\tindependent detection 1\ttp 4\tfp 0\n",
      "                        /publish/portal0\tindependent detection 0\ttp 10\tfp 0\n",
      "                      /images/focus\\.swf\tindependent detection 40\ttp 5\tfp 17\n",
      "                            /WS01/images\tindependent detection 0\ttp 4\tfp 0\n",
      "                      /templates/main/js\tindependent detection 11\ttp 2\tfp 6\n",
      "                        /info/iList\\.jsp\tindependent detection 4\ttp 6\tfp 1\n",
      "                /flash/-1/slideshow\\.swf\tindependent detection 1\ttp 2\tfp 0\n",
      "                       /Website/contents\tindependent detection 10\ttp 5\tfp 0\n",
      "                 /images/jquery\\.min\\.js\tindependent detection 51\ttp 2\tfp 4\n",
      "            /styles/\\d{1}/default/images\tindependent detection 1\ttp 2\tfp 0\n",
      "    /modules/sdytlss/upload/File/2018-04\tindependent detection 0\ttp 2\tfp 0\n",
      "                              /article/b\tindependent detection 12\ttp 3\tfp 3\n",
      "           /UserData/DocHtml/\\d{1}/\\d{4}\tindependent detection 1\ttp 4\tfp 0\n",
      "                     /templet/bott\\.html\tindependent detection 0\ttp 2\tfp 0\n",
      "              /Admin/userfile/Attachment\tindependent detection 0\ttp 29\tfp 0\n",
      "                              /xwzx/qxdt\tindependent detection 0\ttp 2\tfp 0\n",
      "      /sitefiles/services/cms/page\\.aspx\tindependent detection 3\ttp 2\tfp 1\n",
      "/hbksy/\\d{3}/\\d{6}/\\d{9}/\\d{12}/\\d{8}/70f9b8dc-fb65-4667-bd5e-72b69e4fdc5c\\.html\tindependent detection 0\ttp 2\tfp 0\n",
      "                     /ecdomain/framework\tindependent detection 25\ttp 25\tfp 0\n",
      "                    /hscms/webpage/\\d{3}\tindependent detection 0\ttp 3\tfp 0\n",
      "                         /templet/images\tindependent detection 1\ttp 2\tfp 0\n",
      "                           /theme/images\tindependent detection 16\ttp 3\tfp 1\n",
      "                          /Portals/\\d{1}\tindependent detection 17\ttp 5\tfp 6\n",
      "/SiteFiles/bairong/scripts/independent/tracker\\.js\tindependent detection 3\ttp 2\tfp 1\n",
      "                              /html/zwyw\tindependent detection 1\ttp 2\tfp 0\n",
      "               /media/images/banner\\.swf\tindependent detection 0\ttp 2\tfp 0\n",
      "                           /system/\\d{4}\tindependent detection 65\ttp 16\tfp 10\n",
      "                            /\\d{4}/\\d{4}\tindependent detection 1857\ttp 17\tfp 94\n",
      "                              /gk/bmgk04\tindependent detection 0\ttp 2\tfp 0\n",
      "                                /a/\\d{4}\tindependent detection 1056\ttp 21\tfp 47\n",
      "                              /xwdt/msdt\tindependent detection 0\ttp 2\tfp 0\n",
      "               /WS01/images/top2016\\.swf\tindependent detection 0\ttp 2\tfp 0\n",
      "                           /article/view\tindependent detection 9\ttp 3\tfp 2\n",
      "                         /Article/Class1\tindependent detection 0\ttp 2\tfp 0\n",
      "                                /cms/cms\tindependent detection 37\ttp 4\tfp 1\n",
      "                         /news/show\\.php\tindependent detection 18\ttp 2\tfp 8\n",
      "                       /ctnshow\\.php/aid\tindependent detection 0\ttp 2\tfp 0\n",
      "                              /main/xxgk\tindependent detection 0\ttp 2\tfp 0\n",
      "                      /javaScript/jquery\tindependent detection 0\ttp 2\tfp 0\n",
      "                               /xhtml/js\tindependent detection 2\ttp 2\tfp 1\n",
      "              /sitefiles/bairong/scripts\tindependent detection 5\ttp 4\tfp 0\n",
      "                         /content/detail\tindependent detection 18\ttp 36\tfp 3\n",
      "    /sitefiles/assets/tracker/script\\.js\tindependent detection 4\ttp 2\tfp 1\n",
      "                           /home/content\tindependent detection 3\ttp 4\tfp 1\n",
      "                             /info/\\d{4}\tindependent detection 227\ttp 53\tfp 41\n",
      "/nmgttj/xwg/webinfo/\\d{4}/\\d{2}/1513209252647244\\.htm\tindependent detection 0\ttp 2\tfp 0\n",
      "                      /sitefiles/bairong\tindependent detection 11\ttp 5\tfp 2\n",
      "                              /htm/\\d{5}\tindependent detection 43\ttp 2\tfp 2\n",
      "                              /html/xwzx\tindependent detection 5\ttp 3\tfp 2\n",
      "                         /cms/html/xzfwz\tindependent detection 0\ttp 4\tfp 0\n",
      "                               /web/xxgk\tindependent detection 0\ttp 4\tfp 0\n",
      "    /images/jquery\\.SuperSlide\\.2\\.1\\.js\tindependent detection 4\ttp 2\tfp 2\n",
      "                             /api/dl\\.do\tindependent detection 73\ttp 43\tfp 7\n",
      "                    /zzcms/DFS//template\tindependent detection 0\ttp 3\tfp 0\n",
      "  /media/js/jquery\\.SuperSlide\\.2\\.1\\.js\tindependent detection 0\ttp 3\tfp 0\n",
      "                             /tzgg/\\d{6}\tindependent detection 26\ttp 5\tfp 1\n",
      "              /script/CmsTool/Base64\\.js\tindependent detection 0\ttp 2\tfp 0\n",
      "/eportal/uiFramework/huilan-jquery-ui/js/huilan-jquery-ui\\.js\tindependent detection 0\ttp 3\tfp 0\n",
      "           /xxgk/information/ordos_xxw52\tindependent detection 1\ttp 4\tfp 0\n",
      "                              /zwgk/ldzc\tindependent detection 0\ttp 23\tfp 0\n",
      "                        /images/ban\\.swf\tindependent detection 1\ttp 2\tfp 1\n",
      "                      /sitepublish/site1\tindependent detection 0\ttp 4\tfp 0\n",
      "         /configuration/js/Prototype\\.js\tindependent detection 0\ttp 2\tfp 0\n",
      "                              /atm/\\d{1}\tindependent detection 2\ttp 4\tfp 0\n",
      "                         /flash/top\\.swf\tindependent detection 2\ttp 2\tfp 1\n",
      "                        /openness/detail\tindependent detection 12\ttp 16\tfp 0\n",
      "                         /zwbz/zwdt/bmdt\tindependent detection 1\ttp 3\tfp 0\n",
      "                     /system/\\d{4}/\\d{2}\tindependent detection 51\ttp 13\tfp 7\n",
      "                 /UserData/DocHtml/\\d{1}\tindependent detection 1\ttp 4\tfp 0\n",
      "                    /yiyang/footer\\.html\tindependent detection 0\ttp 2\tfp 0\n",
      "                    /a/\\d{4}/\\d{2}/\\d{2}\tindependent detection 5\ttp 7\tfp 0\n",
      "                   /images/common\\.files\tindependent detection 0\ttp 2\tfp 0\n",
      "                               /media/js\tindependent detection 95\ttp 4\tfp 3\n",
      "                         /templates/main\tindependent detection 39\ttp 5\tfp 11\n",
      "                             /html/\\d{2}\tindependent detection 1354\ttp 104\tfp 118\n",
      "          /website/template/bottom\\.html\tindependent detection 0\ttp 2\tfp 0\n"
     ]
    }
   ],
   "source": [
    "df, fp_map, detect_map = illegal_domain_evaluate_mp(urls,  \n",
    "                                     regex_gov,\n",
    "                                     ac_white_domain,\n",
    "                                     trainset_domain, \n",
    "                                     result_file_path = os.path.join(work_dir,\"gov_regex_res.txt\"),\n",
    "                                     n_jobs = 8)"
   ]
  },
  {
   "cell_type": "code",
   "execution_count": 144,
   "metadata": {},
   "outputs": [
    {
     "name": "stderr",
     "output_type": "stream",
     "text": [
      "INFO:url_network:regular expression publish\t30\n"
     ]
    }
   ],
   "source": [
    "df = publish.regex_publish(input_path = os.path.join(work_dir,\"gov_regex_res.txt\"),\n",
    "                          output_path = os.path.join(work_dir,\"gov_regex_publish.txt\"),\n",
    "                          publish_score = 1,\n",
    "                          publish_fp_thresh=1,\n",
    "                          publish_tp_thresh=1)"
   ]
  },
  {
   "cell_type": "code",
   "execution_count": 131,
   "metadata": {
    "scrolled": true
   },
   "outputs": [
    {
     "name": "stdout",
     "output_type": "stream",
     "text": [
      "batch index 0\tsample index 0\thit url 1\t/SiteFiles/bairong/scripts/independent/tracker\\.js\n",
      "batch index 1\tsample index 0\thit url 28\t/openness/detail\n",
      "batch index 0\tsample index 1\thit url 1\t/flash/top\\.swf\n",
      "batch index 2\tsample index 0\thit url 12\t/a/\\d{4}/\\d{2}/\\d{2}\n",
      "batch index 1\tsample index 1\thit url 4\t/zwbz/zwdt/bmdt\n",
      "batch index 0\tsample index 2\thit url 3\t/xhtml/js\n",
      "batch index 1\tsample index 2\thit url 31\t/tzgg/\\d{6}\n",
      "batch index 2\tsample index 1\thit url 11\t/xxgk/tzgg\n",
      "batch index 3\tsample index 0\thit url 3\t/styles/\\d{1}/default/images\n",
      "batch index 2\tsample index 2\thit url 1\t/flash/-1/slideshow\\.swf\n",
      "batch index 3\tsample index 1\thit url 5\t/home/content\n",
      "batch index 4\tsample index 0\thit url 1\t/info/iList\\.jsp\n",
      "batch index 3\tsample index 2\thit url 6\t/theme/images\n",
      "batch index 4\tsample index 1\thit url 38\t/ecdomain/framework\n",
      "batch index 5\tsample index 0\thit url 1\t/sitefiles/assets/tracker/script\\.js\n",
      "batch index 4\tsample index 2\thit url 42\t/cms/cms\n",
      "batch index 5\tsample index 1\thit url 6\t/atm/\\d{1}\n",
      "batch index 6\tsample index 0\thit url 5\t/xxgk/information/ordos_xxw52\n",
      "batch index 5\tsample index 2\thit url 5\t/UserData/DocHtml/\\d{1}\n",
      "batch index 6\tsample index 1\thit url 1\t/sitefiles/services/cms/page\\.aspx\n",
      "batch index 7\tsample index 0\thit url 3\t/sitefiles/bairong/scripts\n",
      "batch index 6\tsample index 2\thit url 3\t/html/zwyw\n",
      "batch index 7\tsample index 1\thit url 1\t/images/ban\\.swf\n",
      "batch index 7\tsample index 2\thit url 19\t/openness/detail/content\n",
      "batch index 7\tsample index 3\thit url 1\t/WXA11Y/soundmanager2-nodebug-jsmin\\.js\n",
      "batch index 7\tsample index 4\thit url 1\t/sitefiles/bairong/scripts/independent/tracker\\.js\n",
      "batch index 7\tsample index 5\thit url 1\t/web/bottom\\.jsp\n",
      "batch index 7\tsample index 6\thit url 13\t/Website/contents\n",
      "batch index 7\tsample index 7\thit url 5\t/UserData/DocHtml/\\d{1}/\\d{4}\n",
      "batch index 7\tsample index 8\thit url 3\t/templet/images\n"
     ]
    },
    {
     "data": {
      "text/plain": [
       "['./data/predict_gov.jl.z']"
      ]
     },
     "execution_count": 131,
     "metadata": {},
     "output_type": "execute_result"
    }
   ],
   "source": [
    "predict_domain, predict_dict = publish.make_prediction(urls, \n",
    "                                                       input_path= os.path.join(work_dir,\"gov_regex_publish.txt\"), \n",
    "                                                       n_jobs=8,\n",
    "                                                       verbose = True)\n",
    "jl.dump([predict_domain, predict_dict], \"./data/predict_gov.jl.z\")"
   ]
  },
  {
   "cell_type": "code",
   "execution_count": 170,
   "metadata": {},
   "outputs": [
    {
     "name": "stdout",
     "output_type": "stream",
     "text": [
      "total detection:160\n",
      "predict porn(trainset/independent):\t72/0\n",
      "new detect:\t88\n"
     ]
    }
   ],
   "source": [
    "cmt_gov = []\n",
    "predict_domain, predict_dict =  jl.load(\"./data/EXP_1/predict_gov.jl.z\")\n",
    "predict_domain = set(predict_domain) - set(cmt_die) - set([_ for k, __ in fp_map.iteritems() for _ in __])\n",
    "new_detect = predict_domain - set(ac_gov_domain)\n",
    "\n",
    "print \"total detection:%d\" %len(predict_domain)\n",
    "print \"predict porn(trainset/independent):\\t%d/%d\" %(len(predict_domain & set(ac_gov_domain)), len(predict_domain & set(cmt_gov)))\n",
    "print \"new detect:\\t%d\" %len(new_detect)\n",
    "\n",
    "dump_urls(list(new_detect), \"./data/predict_gov.txt\")"
   ]
  },
  {
   "cell_type": "code",
   "execution_count": 172,
   "metadata": {},
   "outputs": [
    {
     "data": {
      "text/plain": [
       "{'66pp008.com', 'www.whrsj.gov.cn'}"
      ]
     },
     "execution_count": 172,
     "metadata": {},
     "output_type": "execute_result"
    }
   ],
   "source": [
    "set(predict_dict[\"/theme/images\"]) & set(ac_gov_domain)"
   ]
  },
  {
   "cell_type": "markdown",
   "metadata": {},
   "source": [
    "# evaluate edu"
   ]
  },
  {
   "cell_type": "code",
   "execution_count": 150,
   "metadata": {},
   "outputs": [],
   "source": [
    "trainset_domain = set(ac_edu_domain)\n",
    "regex_edu = file_io.load_regex_list(os.path.join(work_dir,\"edu_regex_raw.txt\"))"
   ]
  },
  {
   "cell_type": "code",
   "execution_count": 153,
   "metadata": {
    "scrolled": true
   },
   "outputs": [
    {
     "name": "stderr",
     "output_type": "stream",
     "text": [
      "INFO:url_network:preprocess time consume:11.616635\n"
     ]
    },
    {
     "name": "stdout",
     "output_type": "stream",
     "text": [
      "              /api/client/verify_channel\tindependent detection 9\ttp 4\tfp 0\n",
      "                             /m/templets\tindependent detection 6\ttp 2\tfp 2\n",
      "                             /content/js\tindependent detection 35\ttp 2\tfp 1\n",
      "                            /wap/toutiao\tindependent detection 3\ttp 4\tfp 0\n",
      "                       /js/analytics\\.js\tindependent detection 9\ttp 2\tfp 0\n",
      "                /tuiguang/projects/jijin\tindependent detection 3\ttp 4\tfp 0\n",
      "          /newpower/baidu/search/psy/aci\tindependent detection 7\ttp 5\tfp 0\n",
      "            /VideoPlay/updateStudyStatue\tindependent detection 0\ttp 3\tfp 0\n",
      "                            /\\d{3}/BJ/pc\tindependent detection 1\ttp 8\tfp 0\n",
      "                 /templets/wodede/mobile\tindependent detection 0\ttp 2\tfp 0\n",
      "                          /Public/Upload\tindependent detection 307\ttp 2\tfp 28\n",
      "                                 /qg/jjs\tindependent detection 5\ttp 6\tfp 1\n",
      "                        /xl/360wm/ldx/pc\tindependent detection 0\ttp 4\tfp 0\n",
      "                /jifen/shenzhen/\\d{3}/pc\tindependent detection 0\ttp 2\tfp 0\n",
      "                                  /xl/gd\tindependent detection 3\ttp 14\tfp 1\n",
      "                                 /arc/gs\tindependent detection 0\ttp 3\tfp 0\n",
      "                            /assets/libs\tindependent detection 30\ttp 2\tfp 0\n",
      "                 /bj/teacher/index\\.html\tindependent detection 0\ttp 2\tfp 0\n",
      "                   /jifen/shenzhen/bd/pc\tindependent detection 1\ttp 6\tfp 0\n",
      "                              /mod/forum\tindependent detection 0\ttp 2\tfp 0\n",
      "                            /api/uc\\.php\tindependent detection 22\ttp 4\tfp 10\n",
      "                   /psyzd520/index\\.html\tindependent detection 1\ttp 2\tfp 0\n",
      "                           /arc/gk/\\d{4}\tindependent detection 0\ttp 2\tfp 0\n",
      "                       /xiaoxue/register\tindependent detection 0\ttp 6\tfp 0\n",
      "                      /UploadFiles/\\d{4}\tindependent detection 218\ttp 10\tfp 63\n",
      "           /static/mobile/css/reset\\.css\tindependent detection 2\ttp 2\tfp 1\n",
      "                     /qg/jjs/index\\.html\tindependent detection 5\ttp 5\tfp 1\n",
      "                            /js/kefu\\.js\tindependent detection 2\ttp 3\tfp 2\n",
      "              /DownImg/\\d{4}/\\d{2}/\\d{2}\tindependent detection 1\ttp 8\tfp 1\n",
      "                                /m/zikao\tindependent detection 2\ttp 4\tfp 0\n",
      "                       /flash/focus\\.swf\tindependent detection 4\ttp 2\tfp 1\n",
      "                               /xl/gd/fs\tindependent detection 0\ttp 2\tfp 0\n",
      "             /sysConfigItem/selectDetail\tindependent detection 1\ttp 3\tfp 0\n",
      "                  /image/itv/\\d{4}/\\d{4}\tindependent detection 0\ttp 43\tfp 0\n",
      "           /newpower/baidu/search/yys/qg\tindependent detection 6\ttp 10\tfp 0\n",
      "                          /public/static\tindependent detection 388\ttp 2\tfp 17\n",
      "               /qljwsys/pages/login\\.jsp\tindependent detection 0\ttp 2\tfp 0\n",
      "/_js/_portletPlugs/swfPlayer/flexpaper/FlexPaper_flash/FlexPaperViewer\\.swf\tindependent detection 0\ttp 2\tfp 0\n",
      "                      /images/logo1\\.png\tindependent detection 7\ttp 2\tfp 2\n",
      "                  /JavaScript/jquery\\.js\tindependent detection 1\ttp 2\tfp 0\n",
      "                       /zt/xfgc_01_jh360\tindependent detection 0\ttp 2\tfp 0\n",
      "                             /renhezc/bj\tindependent detection 0\ttp 2\tfp 0\n",
      "                             /api/course\tindependent detection 11\ttp 3\tfp 0\n",
      "                       /static-dist/libs\tindependent detection 1\ttp 3\tfp 1\n",
      "                          /sites/default\tindependent detection 134\ttp 3\tfp 11\n",
      "                              /sso/login\tindependent detection 13\ttp 3\tfp 0\n",
      "                      /_js/_portletPlugs\tindependent detection 0\ttp 3\tfp 0\n",
      "                             /info/\\d{4}\tindependent detection 244\ttp 36\tfp 51\n",
      "             /rt-pc201710/pc-zixuekaoshi\tindependent detection 0\ttp 2\tfp 0\n",
      "                        /xl/360wm/lfc/pc\tindependent detection 3\ttp 6\tfp 1\n",
      "                         /\\d{2}/sjj\\.png\tindependent detection 0\ttp 2\tfp 0\n",
      "                   /css/view/encoder\\.js\tindependent detection 8\ttp 2\tfp 3\n",
      "                               /static/m\tindependent detection 465\ttp 7\tfp 44\n",
      "                     /api/setting/app_im\tindependent detection 0\ttp 2\tfp 0\n",
      "             /xueli/shenzhen/\\d{3}/pc/ty\tindependent detection 0\ttp 3\tfp 0\n",
      "                   /2018bszt/index\\.html\tindependent detection 0\ttp 2\tfp 0\n",
      "                             /tj/teacher\tindependent detection 1\ttp 2\tfp 1\n",
      "         /newpower/baidu/search/hr/\\d{1}\tindependent detection 8\ttp 29\tfp 0\n",
      "                              /my/course\tindependent detection 4\ttp 12\tfp 0\n",
      "            /xiaoguotu_topic/\\d{4}/\\d{2}\tindependent detection 5\ttp 10\tfp 0\n",
      "                            /index/index\tindependent detection 120\ttp 5\tfp 13\n",
      "             /to8to_pc/index/statics/img\tindependent detection 8\ttp 8\tfp 0\n",
      "      /newpower/baidu/search/xueli/\\d{1}\tindependent detection 0\ttp 12\tfp 0\n",
      "                                /xxl/mba\tindependent detection 0\ttp 7\tfp 0\n",
      "                             /assets/img\tindependent detection 145\ttp 2\tfp 18\n",
      "                     /xueli/foshan/bd/pc\tindependent detection 0\ttp 3\tfp 0\n",
      "                               /xl/360wm\tindependent detection 5\ttp 10\tfp 1\n",
      "                              /tgpc/zzzs\tindependent detection 1\ttp 2\tfp 1\n",
      "                  /js/commanFunction\\.js\tindependent detection 1\ttp 2\tfp 0\n",
      "                   /xl/gd/sz/uctt/ldx/mb\tindependent detection 0\ttp 2\tfp 0\n",
      "/Images/ZhuanTi/hanjiajixun_2017/fuchuang\\.png\tindependent detection 0\ttp 2\tfp 0\n",
      "                           /WCQEDU/u/cms\tindependent detection 2\ttp 2\tfp 0\n",
      "                            /upload/news\tindependent detection 54\ttp 2\tfp 10\n",
      "                             /WenKu/Data\tindependent detection 0\ttp 2\tfp 0\n",
      "                  /kns/brief/brief\\.aspx\tindependent detection 111\ttp 55\tfp 1\n",
      "                            /m/view\\.php\tindependent detection 61\ttp 3\tfp 20\n",
      "      /xiaoguotu_topic/\\d{4}/\\d{2}/\\d{2}\tindependent detection 5\ttp 10\tfp 0\n",
      "                          /lessionnew/gc\tindependent detection 2\ttp 25\tfp 0\n",
      "               /newpower/baidu/search/hr\tindependent detection 8\ttp 29\tfp 0\n",
      "                             /upload/pic\tindependent detection 26\ttp 3\tfp 7\n",
      "/ueditor/third-party/zeroclipboard/ZeroClipboard\\.swf\tindependent detection 247\ttp 4\tfp 4\n",
      "                        /_upload/article\tindependent detection 13\ttp 9\tfp 0\n",
      "                                /bj/bxxl\tindependent detection 7\ttp 11\tfp 0\n",
      "/bj/bxxl/bdt/pcbx/js/superslide\\.2\\.1\\.js\tindependent detection 0\ttp 2\tfp 0\n",
      "                               /xl/gd/sz\tindependent detection 0\ttp 5\tfp 0\n",
      "                            /data/upload\tindependent detection 732\ttp 3\tfp 61\n",
      "                          /xxl/mba/\\d{1}\tindependent detection 0\ttp 5\tfp 0\n",
      "                              /news/view\tindependent detection 28\ttp 5\tfp 4\n",
      " /ZH-360-PC8/js/fxhm\\.message\\.jsonp\\.js\tindependent detection 0\ttp 2\tfp 0\n",
      "                            /\\d{4}/SD/mb\tindependent detection 0\ttp 5\tfp 0\n",
      "                 /_upload/article/videos\tindependent detection 0\ttp 6\tfp 0\n",
      "            /newpower/baidu/search/xueli\tindependent detection 0\ttp 12\tfp 0\n",
      "                  /account/course/custom\tindependent detection 1\ttp 2\tfp 0\n",
      "               /yiyaokaoshi/gaojizhichen\tindependent detection 2\ttp 2\tfp 2\n",
      "                    /images/weblogo\\.png\tindependent detection 0\ttp 2\tfp 0\n",
      "                            /special/xue\tindependent detection 0\ttp 2\tfp 0\n",
      "                 /zy/diangongzheng\\.html\tindependent detection 0\ttp 2\tfp 0\n",
      "                               /xl/gd/gz\tindependent detection 1\ttp 4\tfp 1\n",
      "                  /xl/360wm/lfc/pc/\\d{1}\tindependent detection 2\ttp 5\tfp 0\n",
      "                /ziwopingjia/86963\\.html\tindependent detection 0\ttp 2\tfp 0\n",
      "/newpower/baidu/search/hr/\\d{1}/js/index\\.js\tindependent detection 0\ttp 2\tfp 0\n",
      "                              /news/pics\tindependent detection 21\ttp 2\tfp 7\n",
      "                          /static/common\tindependent detection 151\ttp 13\tfp 13\n",
      "                      /_upload/tpl/\\d{2}\tindependent detection 6\ttp 8\tfp 0\n",
      "                 /Content/bootstrap\\.css\tindependent detection 2\ttp 2\tfp 0\n",
      "              /newpower/baidu/search/psy\tindependent detection 7\ttp 10\tfp 0\n",
      "               /UP/TX/5940ae2a6d099\\.jpg\tindependent detection 0\ttp 2\tfp 0\n",
      "                  /m/diangongzheng\\.html\tindependent detection 0\ttp 3\tfp 0\n"
     ]
    },
    {
     "name": "stdout",
     "output_type": "stream",
     "text": [
      "                        /a/zhuanyeshezhi\tindependent detection 0\ttp 4\tfp 0\n",
      "                 /kns/brief/result\\.aspx\tindependent detection 5\ttp 3\tfp 0\n",
      "                         /xl/gd/gz/360wm\tindependent detection 0\ttp 3\tfp 0\n",
      "            /project/huaxijs/index\\.html\tindependent detection 0\ttp 2\tfp 0\n",
      "                             /renhezj/gd\tindependent detection 0\ttp 2\tfp 0\n",
      "                         /jifen/shenzhen\tindependent detection 1\ttp 8\tfp 0\n",
      "                         /templets/style\tindependent detection 12\ttp 2\tfp 3\n",
      "          /static-dist/app/js/common\\.js\tindependent detection 1\ttp 3\tfp 0\n",
      "                          /skins/wap/css\tindependent detection 1\ttp 2\tfp 1\n",
      "                         /xueli/shenzhen\tindependent detection 0\ttp 6\tfp 0\n",
      "                  /a/zhuanyeshezhi/\\d{4}\tindependent detection 0\ttp 3\tfp 0\n",
      "                          /Account/Login\tindependent detection 8\ttp 3\tfp 1\n",
      "                            /css/asd\\.js\tindependent detection 0\ttp 2\tfp 0\n",
      "           /shenzhen/teacher/index\\.html\tindependent detection 0\ttp 2\tfp 0\n",
      "                        /xueli/guangzhou\tindependent detection 3\ttp 3\tfp 0\n",
      "                        /public/home/css\tindependent detection 26\ttp 4\tfp 3\n",
      "                   /hx-pc201710/hx-pc-zk\tindependent detection 0\ttp 2\tfp 0\n",
      "                          /static/mobile\tindependent detection 123\ttp 3\tfp 30\n",
      "                                  /tg/hu\tindependent detection 0\ttp 3\tfp 0\n",
      "                                /track/x\tindependent detection 0\ttp 3\tfp 0\n",
      "                            /home/course\tindependent detection 2\ttp 2\tfp 0\n",
      "                  /newpower/baidu/search\tindependent detection 21\ttp 66\tfp 0\n",
      "                         /course/explore\tindependent detection 4\ttp 3\tfp 1\n",
      "             /static/common/webutils\\.js\tindependent detection 42\ttp 12\tfp 0\n",
      "                            /_upload/tpl\tindependent detection 6\ttp 9\tfp 0\n",
      "               /_js/jquery-2\\.x\\.min\\.js\tindependent detection 4\ttp 5\tfp 0\n"
     ]
    }
   ],
   "source": [
    "ac_white_domain_edu = set(ac_white_domain) - trainset_domain\n",
    "df, fp_map, detect_map = illegal_domain_evaluate_mp(urls,  \n",
    "                                     regex_edu,\n",
    "                                     ac_white_domain_edu,\n",
    "                                     trainset_domain, \n",
    "                                     result_file_path = os.path.join(work_dir,\"edu_regex_res.txt\"),\n",
    "                                     n_jobs = 8)"
   ]
  },
  {
   "cell_type": "code",
   "execution_count": 162,
   "metadata": {},
   "outputs": [
    {
     "name": "stderr",
     "output_type": "stream",
     "text": [
      "INFO:url_network:regular expression publish\t40\n"
     ]
    }
   ],
   "source": [
    "df = publish.regex_publish(input_path = os.path.join(work_dir,\"edu_regex_res.txt\"),\n",
    "                          output_path = os.path.join(work_dir,\"edu_regex_publish.txt\"),\n",
    "                          publish_score = 1,\n",
    "                          publish_fp_thresh=0,\n",
    "                          publish_tp_thresh=1)"
   ]
  },
  {
   "cell_type": "code",
   "execution_count": 155,
   "metadata": {
    "scrolled": true
   },
   "outputs": [
    {
     "name": "stdout",
     "output_type": "stream",
     "text": [
      "batch index 0\tsample index 0\thit url 1\t/api/client/verify_channel\n",
      "batch index 0\tsample index 1\thit url 1\t/JavaScript/jquery\\.js\n",
      "batch index 1\tsample index 0\thit url 4\t/WCQEDU/u/cms\n",
      "batch index 2\tsample index 0\thit url 8\t/xl/360wm/lfc/pc\n",
      "batch index 1\tsample index 1\thit url 2\t/jifen/shenzhen/bd/pc\n",
      "batch index 0\tsample index 2\thit url 6\t/wap/toutiao\n",
      "batch index 1\tsample index 2\thit url 1\t/static/mobile/css/reset\\.css\n",
      "batch index 3\tsample index 0\thit url 5\t/xl/gd/gz\n",
      "batch index 2\tsample index 1\thit url 6\t/xl/360wm/lfc/pc/\\d{1}\n",
      "batch index 0\tsample index 3\thit url 17\t/content/js\n",
      "batch index 3\tsample index 1\thit url 1\t/flash/focus\\.swf\n",
      "batch index 1\tsample index 3\thit url 22\t/newpower/baidu/search\n",
      "batch index 2\tsample index 2\thit url 8\t/api/course\n",
      "batch index 4\tsample index 0\thit url 1\t/kns/brief/brief\\.aspx\n",
      "batch index 0\tsample index 4\thit url 7\t/tuiguang/projects/jijin\n",
      "batch index 3\tsample index 2\thit url 3\t/newpower/baidu/search/psy\n",
      "batch index 5\tsample index 0\thit url 4\t/jifen/shenzhen\n",
      "batch index 1\tsample index 4\thit url 2\t/m/zikao\n",
      "batch index 4\tsample index 1\thit url 1\t/account/course/custom\n",
      "batch index 0\tsample index 5\thit url 15\t/xiaoguotu_topic/\\d{4}/\\d{2}\n",
      "batch index 2\tsample index 3\thit url 11\t/newpower/baidu/search/hr/\\d{1}\n",
      "batch index 1\tsample index 5\thit url 1\t/static-dist/app/js/common\\.js\n",
      "batch index 5\tsample index 1\thit url 7\t/\\d{3}/BJ/pc\n",
      "batch index 4\tsample index 2\thit url 2\t/qg/jjs\n",
      "batch index 6\tsample index 0\thit url 2\t/tj/teacher\n",
      "batch index 0\tsample index 6\thit url 17\t/xl/gd\n",
      "batch index 3\tsample index 3\thit url 15\t/to8to_pc/index/statics/img\n",
      "batch index 2\tsample index 4\thit url 1\t/js/commanFunction\\.js\n",
      "batch index 1\tsample index 6\thit url 5\t/course/explore\n",
      "batch index 5\tsample index 2\thit url 4\t/sysConfigItem/selectDetail\n",
      "batch index 7\tsample index 0\thit url 3\t/Account/Login\n",
      "batch index 4\tsample index 3\thit url 14\t/_upload/tpl\n",
      "batch index 6\tsample index 1\thit url 1\t/qg/jjs/index\\.html\n",
      "batch index 3\tsample index 4\thit url 3\t/tgpc/zzzs\n",
      "batch index 2\tsample index 5\thit url 21\t/_upload/article\n",
      "batch index 5\tsample index 3\thit url 6\t/xueli/guangzhou\n",
      "batch index 4\tsample index 4\thit url 11\t/newpower/baidu/search/hr\n",
      "batch index 7\tsample index 1\thit url 1\t/psyzd520/index\\.html\n",
      "batch index 6\tsample index 2\thit url 21\t/assets/libs\n",
      "batch index 3\tsample index 5\thit url 11\t/xl/360wm\n",
      "batch index 2\tsample index 6\thit url 1\t/Content/bootstrap\\.css\n",
      "batch index 5\tsample index 4\thit url 1\t/kns/brief/result\\.aspx\n",
      "batch index 4\tsample index 5\thit url 15\t/xiaoguotu_topic/\\d{4}/\\d{2}/\\d{2}\n",
      "batch index 7\tsample index 2\thit url 27\t/lessionnew/gc\n",
      "batch index 3\tsample index 6\thit url 1\t/newpower/baidu/search/psy/aci\n",
      "batch index 6\tsample index 3\thit url 3\t/newpower/baidu/search/yys/qg\n",
      "batch index 4\tsample index 6\thit url 1\t/js/analytics\\.js\n",
      "batch index 7\tsample index 3\thit url 9\t/DownImg/\\d{4}/\\d{2}/\\d{2}\n",
      "batch index 5\tsample index 5\thit url 3\t/skins/wap/css\n",
      "batch index 6\tsample index 4\thit url 13\t/bj/bxxl\n",
      "batch index 7\tsample index 4\thit url 1\t/static/common/webutils\\.js\n",
      "batch index 5\tsample index 6\thit url 16\t/my/course\n",
      "batch index 6\tsample index 5\thit url 4\t/static-dist/libs\n",
      "batch index 7\tsample index 5\thit url 1\t/sso/login\n",
      "batch index 6\tsample index 6\thit url 3\t/home/course\n",
      "batch index 7\tsample index 6\thit url 13\t/_upload/tpl/\\d{2}\n",
      "batch index 7\tsample index 7\thit url 1\t/_js/jquery-2\\.x\\.min\\.js\n"
     ]
    },
    {
     "data": {
      "text/plain": [
       "['./data/predict_edu.jl.z']"
      ]
     },
     "execution_count": 155,
     "metadata": {},
     "output_type": "execute_result"
    }
   ],
   "source": [
    "predict_domain, predict_dict = publish.make_prediction(urls, \n",
    "                                                       input_path= os.path.join(work_dir,\"edu_regex_publish.txt\"), \n",
    "                                                       n_jobs=8,\n",
    "                                                       verbose = True)\n",
    "jl.dump([predict_domain, predict_dict], \"./data/predict_edu.jl.z\")"
   ]
  },
  {
   "cell_type": "code",
   "execution_count": 163,
   "metadata": {},
   "outputs": [
    {
     "name": "stdout",
     "output_type": "stream",
     "text": [
      "total detection:256\n",
      "predict porn(trainset/independent):\t125/0\n",
      "new detect:\t131\n"
     ]
    }
   ],
   "source": [
    "cmt_edu = []\n",
    "predict_domain, predict_dict =  jl.load(\"./data/predict_edu.jl.z\")\n",
    "predict_domain = set(predict_domain) - set(cmt_die) - set([_ for k, __ in fp_map.iteritems() for _ in __])\n",
    "new_detect = predict_domain - set(ac_edu_domain)\n",
    "\n",
    "print \"total detection:%d\" %len(predict_domain)\n",
    "print \"predict porn(trainset/independent):\\t%d/%d\" %(len(predict_domain & set(ac_edu_domain)), len(predict_domain & set(cmt_edu)))\n",
    "print \"new detect:\\t%d\" %len(new_detect)\n",
    "\n",
    "dump_urls(list(new_detect), \"./data/predict_edu.txt\")"
   ]
  }
 ],
 "metadata": {
  "kernelspec": {
   "display_name": "Python 2",
   "language": "python",
   "name": "python2"
  },
  "language_info": {
   "codemirror_mode": {
    "name": "ipython",
    "version": 2
   },
   "file_extension": ".py",
   "mimetype": "text/x-python",
   "name": "python",
   "nbconvert_exporter": "python",
   "pygments_lexer": "ipython2",
   "version": "2.7.14"
  }
 },
 "nbformat": 4,
 "nbformat_minor": 2
}
